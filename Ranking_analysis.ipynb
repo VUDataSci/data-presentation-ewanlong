{
 "cells": [
  {
   "cell_type": "code",
   "execution_count": 20,
   "id": "cd7212e713cf992e",
   "metadata": {
    "ExecuteTime": {
     "end_time": "2023-11-05T09:34:28.146106600Z",
     "start_time": "2023-11-05T09:34:28.125088300Z"
    }
   },
   "outputs": [],
   "source": [
    "# Import necessary libraries\n",
    "import pandas as pd\n",
    "import matplotlib.pyplot as plt\n",
    "import numpy as np\n",
    "import matplotlib as mpl\n",
    "from plotly.subplots import make_subplots\n",
    "import plotly.graph_objects as go\n",
    "import plotly.express as px"
   ]
  },
  {
   "cell_type": "code",
   "execution_count": 21,
   "metadata": {},
   "outputs": [],
   "source": [
    "# Set the default font style and size\n",
    "mpl.rcParams['font.family'] = 'Times New Roman' # change the font style to Times New Roman\n",
    "mpl.rcParams['font.size'] = 14 # change the font size to 14"
   ]
  },
  {
   "cell_type": "code",
   "execution_count": 22,
   "metadata": {},
   "outputs": [
    {
     "data": {
      "text/html": [
       "<div>\n",
       "<style scoped>\n",
       "    .dataframe tbody tr th:only-of-type {\n",
       "        vertical-align: middle;\n",
       "    }\n",
       "\n",
       "    .dataframe tbody tr th {\n",
       "        vertical-align: top;\n",
       "    }\n",
       "\n",
       "    .dataframe thead th {\n",
       "        text-align: right;\n",
       "    }\n",
       "</style>\n",
       "<table border=\"1\" class=\"dataframe\">\n",
       "  <thead>\n",
       "    <tr style=\"text-align: right;\">\n",
       "      <th></th>\n",
       "      <th>When using, please cite as: Andrew G. Reiter, “U.S. News &amp; World Report Historical Liberal Arts College and University Rankings,” available at: http://andyreiter.com/datasets/</th>\n",
       "      <th>Unnamed: 1</th>\n",
       "      <th>Unnamed: 2</th>\n",
       "      <th>Unnamed: 3</th>\n",
       "      <th>Unnamed: 4</th>\n",
       "      <th>Unnamed: 5</th>\n",
       "      <th>Unnamed: 6</th>\n",
       "      <th>Unnamed: 7</th>\n",
       "      <th>Unnamed: 8</th>\n",
       "      <th>Unnamed: 9</th>\n",
       "      <th>...</th>\n",
       "      <th>Unnamed: 31</th>\n",
       "      <th>Unnamed: 32</th>\n",
       "      <th>Unnamed: 33</th>\n",
       "      <th>Unnamed: 34</th>\n",
       "      <th>Unnamed: 35</th>\n",
       "      <th>Unnamed: 36</th>\n",
       "      <th>Unnamed: 37</th>\n",
       "      <th>Unnamed: 38</th>\n",
       "      <th>Unnamed: 39</th>\n",
       "      <th>Unnamed: 40</th>\n",
       "    </tr>\n",
       "  </thead>\n",
       "  <tbody>\n",
       "    <tr>\n",
       "      <th>0</th>\n",
       "      <td>University Name</td>\n",
       "      <td>IPEDS ID</td>\n",
       "      <td>State</td>\n",
       "      <td>2023.0</td>\n",
       "      <td>2022.0</td>\n",
       "      <td>2021.0</td>\n",
       "      <td>2020.0</td>\n",
       "      <td>2019.0</td>\n",
       "      <td>2018.0</td>\n",
       "      <td>2017.0</td>\n",
       "      <td>...</td>\n",
       "      <td>1995.0</td>\n",
       "      <td>1994.0</td>\n",
       "      <td>1993.0</td>\n",
       "      <td>1992.0</td>\n",
       "      <td>1991.0</td>\n",
       "      <td>1990.0</td>\n",
       "      <td>1989.0</td>\n",
       "      <td>1988.0</td>\n",
       "      <td>1986.0</td>\n",
       "      <td>1984.0</td>\n",
       "    </tr>\n",
       "    <tr>\n",
       "      <th>1</th>\n",
       "      <td>Princeton University</td>\n",
       "      <td>186131</td>\n",
       "      <td>NJ</td>\n",
       "      <td>1.0</td>\n",
       "      <td>1.0</td>\n",
       "      <td>1.0</td>\n",
       "      <td>1.0</td>\n",
       "      <td>1.0</td>\n",
       "      <td>1.0</td>\n",
       "      <td>1.0</td>\n",
       "      <td>...</td>\n",
       "      <td>2.0</td>\n",
       "      <td>2.0</td>\n",
       "      <td>2.0</td>\n",
       "      <td>4.0</td>\n",
       "      <td>4.0</td>\n",
       "      <td>2.0</td>\n",
       "      <td>2.0</td>\n",
       "      <td>4.0</td>\n",
       "      <td>4.0</td>\n",
       "      <td>4.0</td>\n",
       "    </tr>\n",
       "    <tr>\n",
       "      <th>2</th>\n",
       "      <td>Massachusetts Institute of Technology</td>\n",
       "      <td>166683</td>\n",
       "      <td>MA</td>\n",
       "      <td>2.0</td>\n",
       "      <td>2.0</td>\n",
       "      <td>4.0</td>\n",
       "      <td>3.0</td>\n",
       "      <td>3.0</td>\n",
       "      <td>5.0</td>\n",
       "      <td>7.0</td>\n",
       "      <td>...</td>\n",
       "      <td>4.0</td>\n",
       "      <td>4.0</td>\n",
       "      <td>5.0</td>\n",
       "      <td>6.0</td>\n",
       "      <td>6.0</td>\n",
       "      <td>7.0</td>\n",
       "      <td>5.0</td>\n",
       "      <td>11.0</td>\n",
       "      <td>NaN</td>\n",
       "      <td>10.0</td>\n",
       "    </tr>\n",
       "    <tr>\n",
       "      <th>3</th>\n",
       "      <td>Harvard University</td>\n",
       "      <td>166027</td>\n",
       "      <td>MA</td>\n",
       "      <td>3.0</td>\n",
       "      <td>2.0</td>\n",
       "      <td>2.0</td>\n",
       "      <td>2.0</td>\n",
       "      <td>2.0</td>\n",
       "      <td>2.0</td>\n",
       "      <td>2.0</td>\n",
       "      <td>...</td>\n",
       "      <td>1.0</td>\n",
       "      <td>1.0</td>\n",
       "      <td>1.0</td>\n",
       "      <td>1.0</td>\n",
       "      <td>1.0</td>\n",
       "      <td>3.0</td>\n",
       "      <td>4.0</td>\n",
       "      <td>2.0</td>\n",
       "      <td>2.0</td>\n",
       "      <td>2.0</td>\n",
       "    </tr>\n",
       "    <tr>\n",
       "      <th>4</th>\n",
       "      <td>Yale University</td>\n",
       "      <td>130794</td>\n",
       "      <td>CT</td>\n",
       "      <td>3.0</td>\n",
       "      <td>5.0</td>\n",
       "      <td>4.0</td>\n",
       "      <td>3.0</td>\n",
       "      <td>3.0</td>\n",
       "      <td>3.0</td>\n",
       "      <td>3.0</td>\n",
       "      <td>...</td>\n",
       "      <td>3.0</td>\n",
       "      <td>3.0</td>\n",
       "      <td>3.0</td>\n",
       "      <td>2.0</td>\n",
       "      <td>3.0</td>\n",
       "      <td>1.0</td>\n",
       "      <td>1.0</td>\n",
       "      <td>3.0</td>\n",
       "      <td>2.0</td>\n",
       "      <td>3.0</td>\n",
       "    </tr>\n",
       "    <tr>\n",
       "      <th>...</th>\n",
       "      <td>...</td>\n",
       "      <td>...</td>\n",
       "      <td>...</td>\n",
       "      <td>...</td>\n",
       "      <td>...</td>\n",
       "      <td>...</td>\n",
       "      <td>...</td>\n",
       "      <td>...</td>\n",
       "      <td>...</td>\n",
       "      <td>...</td>\n",
       "      <td>...</td>\n",
       "      <td>...</td>\n",
       "      <td>...</td>\n",
       "      <td>...</td>\n",
       "      <td>...</td>\n",
       "      <td>...</td>\n",
       "      <td>...</td>\n",
       "      <td>...</td>\n",
       "      <td>...</td>\n",
       "      <td>...</td>\n",
       "      <td>...</td>\n",
       "    </tr>\n",
       "    <tr>\n",
       "      <th>163</th>\n",
       "      <td>University of Cincinnati</td>\n",
       "      <td>201885</td>\n",
       "      <td>OH</td>\n",
       "      <td>NaN</td>\n",
       "      <td>148.0</td>\n",
       "      <td>NaN</td>\n",
       "      <td>NaN</td>\n",
       "      <td>NaN</td>\n",
       "      <td>NaN</td>\n",
       "      <td>NaN</td>\n",
       "      <td>...</td>\n",
       "      <td>NaN</td>\n",
       "      <td>NaN</td>\n",
       "      <td>NaN</td>\n",
       "      <td>NaN</td>\n",
       "      <td>NaN</td>\n",
       "      <td>NaN</td>\n",
       "      <td>NaN</td>\n",
       "      <td>NaN</td>\n",
       "      <td>NaN</td>\n",
       "      <td>NaN</td>\n",
       "    </tr>\n",
       "    <tr>\n",
       "      <th>164</th>\n",
       "      <td>University of Mississippi</td>\n",
       "      <td>176017</td>\n",
       "      <td>MS</td>\n",
       "      <td>NaN</td>\n",
       "      <td>148.0</td>\n",
       "      <td>NaN</td>\n",
       "      <td>NaN</td>\n",
       "      <td>NaN</td>\n",
       "      <td>NaN</td>\n",
       "      <td>NaN</td>\n",
       "      <td>...</td>\n",
       "      <td>NaN</td>\n",
       "      <td>NaN</td>\n",
       "      <td>NaN</td>\n",
       "      <td>NaN</td>\n",
       "      <td>NaN</td>\n",
       "      <td>NaN</td>\n",
       "      <td>NaN</td>\n",
       "      <td>NaN</td>\n",
       "      <td>NaN</td>\n",
       "      <td>NaN</td>\n",
       "    </tr>\n",
       "    <tr>\n",
       "      <th>165</th>\n",
       "      <td>Ohio University</td>\n",
       "      <td>204857</td>\n",
       "      <td>OH</td>\n",
       "      <td>NaN</td>\n",
       "      <td>NaN</td>\n",
       "      <td>NaN</td>\n",
       "      <td>NaN</td>\n",
       "      <td>NaN</td>\n",
       "      <td>NaN</td>\n",
       "      <td>NaN</td>\n",
       "      <td>...</td>\n",
       "      <td>NaN</td>\n",
       "      <td>NaN</td>\n",
       "      <td>NaN</td>\n",
       "      <td>NaN</td>\n",
       "      <td>NaN</td>\n",
       "      <td>NaN</td>\n",
       "      <td>NaN</td>\n",
       "      <td>NaN</td>\n",
       "      <td>NaN</td>\n",
       "      <td>NaN</td>\n",
       "    </tr>\n",
       "    <tr>\n",
       "      <th>166</th>\n",
       "      <td>University of Arkansas</td>\n",
       "      <td>106397</td>\n",
       "      <td>AR</td>\n",
       "      <td>NaN</td>\n",
       "      <td>NaN</td>\n",
       "      <td>NaN</td>\n",
       "      <td>153.0</td>\n",
       "      <td>147.0</td>\n",
       "      <td>133.0</td>\n",
       "      <td>135.0</td>\n",
       "      <td>...</td>\n",
       "      <td>NaN</td>\n",
       "      <td>NaN</td>\n",
       "      <td>NaN</td>\n",
       "      <td>NaN</td>\n",
       "      <td>NaN</td>\n",
       "      <td>NaN</td>\n",
       "      <td>NaN</td>\n",
       "      <td>NaN</td>\n",
       "      <td>NaN</td>\n",
       "      <td>NaN</td>\n",
       "    </tr>\n",
       "    <tr>\n",
       "      <th>167</th>\n",
       "      <td>Washington State University</td>\n",
       "      <td>236939</td>\n",
       "      <td>WA</td>\n",
       "      <td>NaN</td>\n",
       "      <td>NaN</td>\n",
       "      <td>NaN</td>\n",
       "      <td>NaN</td>\n",
       "      <td>NaN</td>\n",
       "      <td>NaN</td>\n",
       "      <td>NaN</td>\n",
       "      <td>...</td>\n",
       "      <td>NaN</td>\n",
       "      <td>NaN</td>\n",
       "      <td>NaN</td>\n",
       "      <td>NaN</td>\n",
       "      <td>NaN</td>\n",
       "      <td>NaN</td>\n",
       "      <td>NaN</td>\n",
       "      <td>NaN</td>\n",
       "      <td>NaN</td>\n",
       "      <td>NaN</td>\n",
       "    </tr>\n",
       "  </tbody>\n",
       "</table>\n",
       "<p>168 rows × 41 columns</p>\n",
       "</div>"
      ],
      "text/plain": [
       "    When using, please cite as: Andrew G. Reiter, “U.S. News & World Report Historical Liberal Arts College and University Rankings,” available at: http://andyreiter.com/datasets/  \\\n",
       "0                                      University Name                                                                                                                                \n",
       "1                                 Princeton University                                                                                                                                \n",
       "2                Massachusetts Institute of Technology                                                                                                                                \n",
       "3                                   Harvard University                                                                                                                                \n",
       "4                                      Yale University                                                                                                                                \n",
       "..                                                 ...                                                                                                                                \n",
       "163                           University of Cincinnati                                                                                                                                \n",
       "164                          University of Mississippi                                                                                                                                \n",
       "165                                    Ohio University                                                                                                                                \n",
       "166                             University of Arkansas                                                                                                                                \n",
       "167                        Washington State University                                                                                                                                \n",
       "\n",
       "    Unnamed: 1 Unnamed: 2  Unnamed: 3  Unnamed: 4  Unnamed: 5  Unnamed: 6  \\\n",
       "0     IPEDS ID      State      2023.0      2022.0      2021.0      2020.0   \n",
       "1       186131         NJ         1.0         1.0         1.0         1.0   \n",
       "2       166683         MA         2.0         2.0         4.0         3.0   \n",
       "3       166027         MA         3.0         2.0         2.0         2.0   \n",
       "4       130794         CT         3.0         5.0         4.0         3.0   \n",
       "..         ...        ...         ...         ...         ...         ...   \n",
       "163     201885         OH         NaN       148.0         NaN         NaN   \n",
       "164     176017         MS         NaN       148.0         NaN         NaN   \n",
       "165     204857         OH         NaN         NaN         NaN         NaN   \n",
       "166     106397         AR         NaN         NaN         NaN       153.0   \n",
       "167     236939         WA         NaN         NaN         NaN         NaN   \n",
       "\n",
       "     Unnamed: 7  Unnamed: 8  Unnamed: 9  ...  Unnamed: 31  Unnamed: 32  \\\n",
       "0        2019.0      2018.0      2017.0  ...       1995.0       1994.0   \n",
       "1           1.0         1.0         1.0  ...          2.0          2.0   \n",
       "2           3.0         5.0         7.0  ...          4.0          4.0   \n",
       "3           2.0         2.0         2.0  ...          1.0          1.0   \n",
       "4           3.0         3.0         3.0  ...          3.0          3.0   \n",
       "..          ...         ...         ...  ...          ...          ...   \n",
       "163         NaN         NaN         NaN  ...          NaN          NaN   \n",
       "164         NaN         NaN         NaN  ...          NaN          NaN   \n",
       "165         NaN         NaN         NaN  ...          NaN          NaN   \n",
       "166       147.0       133.0       135.0  ...          NaN          NaN   \n",
       "167         NaN         NaN         NaN  ...          NaN          NaN   \n",
       "\n",
       "     Unnamed: 33  Unnamed: 34  Unnamed: 35  Unnamed: 36  Unnamed: 37  \\\n",
       "0         1993.0       1992.0       1991.0       1990.0       1989.0   \n",
       "1            2.0          4.0          4.0          2.0          2.0   \n",
       "2            5.0          6.0          6.0          7.0          5.0   \n",
       "3            1.0          1.0          1.0          3.0          4.0   \n",
       "4            3.0          2.0          3.0          1.0          1.0   \n",
       "..           ...          ...          ...          ...          ...   \n",
       "163          NaN          NaN          NaN          NaN          NaN   \n",
       "164          NaN          NaN          NaN          NaN          NaN   \n",
       "165          NaN          NaN          NaN          NaN          NaN   \n",
       "166          NaN          NaN          NaN          NaN          NaN   \n",
       "167          NaN          NaN          NaN          NaN          NaN   \n",
       "\n",
       "     Unnamed: 38  Unnamed: 39  Unnamed: 40  \n",
       "0         1988.0       1986.0       1984.0  \n",
       "1            4.0          4.0          4.0  \n",
       "2           11.0          NaN         10.0  \n",
       "3            2.0          2.0          2.0  \n",
       "4            3.0          2.0          3.0  \n",
       "..           ...          ...          ...  \n",
       "163          NaN          NaN          NaN  \n",
       "164          NaN          NaN          NaN  \n",
       "165          NaN          NaN          NaN  \n",
       "166          NaN          NaN          NaN  \n",
       "167          NaN          NaN          NaN  \n",
       "\n",
       "[168 rows x 41 columns]"
      ]
     },
     "execution_count": 22,
     "metadata": {},
     "output_type": "execute_result"
    }
   ],
   "source": [
    "# Load the \"US-News-Rankings-Universities\" dataset\n",
    "us_data = pd.read_excel('US-News-Rankings-Universities.xlsx', engine='openpyxl', sheet_name = \"Compiled 1984-2023 Selective\")\n",
    "us_data"
   ]
  },
  {
   "cell_type": "code",
   "execution_count": 23,
   "id": "ac79619ffa6e563b",
   "metadata": {
    "ExecuteTime": {
     "end_time": "2023-11-05T09:34:28.275195900Z",
     "start_time": "2023-11-05T09:34:28.134594600Z"
    }
   },
   "outputs": [
    {
     "data": {
      "text/html": [
       "<div>\n",
       "<style scoped>\n",
       "    .dataframe tbody tr th:only-of-type {\n",
       "        vertical-align: middle;\n",
       "    }\n",
       "\n",
       "    .dataframe tbody tr th {\n",
       "        vertical-align: top;\n",
       "    }\n",
       "\n",
       "    .dataframe thead th {\n",
       "        text-align: right;\n",
       "    }\n",
       "</style>\n",
       "<table border=\"1\" class=\"dataframe\">\n",
       "  <thead>\n",
       "    <tr style=\"text-align: right;\">\n",
       "      <th></th>\n",
       "      <th>University</th>\n",
       "      <th>ID</th>\n",
       "      <th>State</th>\n",
       "      <th>2023</th>\n",
       "      <th>2022</th>\n",
       "      <th>2021</th>\n",
       "      <th>2020</th>\n",
       "      <th>2019</th>\n",
       "      <th>2018</th>\n",
       "      <th>2017</th>\n",
       "      <th>...</th>\n",
       "      <th>1995</th>\n",
       "      <th>1994</th>\n",
       "      <th>1993</th>\n",
       "      <th>1992</th>\n",
       "      <th>1991</th>\n",
       "      <th>1990</th>\n",
       "      <th>1989</th>\n",
       "      <th>1988</th>\n",
       "      <th>1986</th>\n",
       "      <th>1984</th>\n",
       "    </tr>\n",
       "  </thead>\n",
       "  <tbody>\n",
       "    <tr>\n",
       "      <th>0</th>\n",
       "      <td>Princeton University</td>\n",
       "      <td>186131</td>\n",
       "      <td>NJ</td>\n",
       "      <td>1</td>\n",
       "      <td>1</td>\n",
       "      <td>1</td>\n",
       "      <td>1</td>\n",
       "      <td>1</td>\n",
       "      <td>1</td>\n",
       "      <td>1</td>\n",
       "      <td>...</td>\n",
       "      <td>2</td>\n",
       "      <td>2</td>\n",
       "      <td>2</td>\n",
       "      <td>4</td>\n",
       "      <td>4</td>\n",
       "      <td>2</td>\n",
       "      <td>2</td>\n",
       "      <td>4</td>\n",
       "      <td>4</td>\n",
       "      <td>4</td>\n",
       "    </tr>\n",
       "    <tr>\n",
       "      <th>1</th>\n",
       "      <td>Massachusetts Institute of Technology</td>\n",
       "      <td>166683</td>\n",
       "      <td>MA</td>\n",
       "      <td>2</td>\n",
       "      <td>2</td>\n",
       "      <td>4</td>\n",
       "      <td>3</td>\n",
       "      <td>3</td>\n",
       "      <td>5</td>\n",
       "      <td>7</td>\n",
       "      <td>...</td>\n",
       "      <td>4</td>\n",
       "      <td>4</td>\n",
       "      <td>5</td>\n",
       "      <td>6</td>\n",
       "      <td>6</td>\n",
       "      <td>7</td>\n",
       "      <td>5</td>\n",
       "      <td>11</td>\n",
       "      <td>&lt;NA&gt;</td>\n",
       "      <td>10</td>\n",
       "    </tr>\n",
       "    <tr>\n",
       "      <th>2</th>\n",
       "      <td>Harvard University</td>\n",
       "      <td>166027</td>\n",
       "      <td>MA</td>\n",
       "      <td>3</td>\n",
       "      <td>2</td>\n",
       "      <td>2</td>\n",
       "      <td>2</td>\n",
       "      <td>2</td>\n",
       "      <td>2</td>\n",
       "      <td>2</td>\n",
       "      <td>...</td>\n",
       "      <td>1</td>\n",
       "      <td>1</td>\n",
       "      <td>1</td>\n",
       "      <td>1</td>\n",
       "      <td>1</td>\n",
       "      <td>3</td>\n",
       "      <td>4</td>\n",
       "      <td>2</td>\n",
       "      <td>2</td>\n",
       "      <td>2</td>\n",
       "    </tr>\n",
       "    <tr>\n",
       "      <th>3</th>\n",
       "      <td>Yale University</td>\n",
       "      <td>130794</td>\n",
       "      <td>CT</td>\n",
       "      <td>3</td>\n",
       "      <td>5</td>\n",
       "      <td>4</td>\n",
       "      <td>3</td>\n",
       "      <td>3</td>\n",
       "      <td>3</td>\n",
       "      <td>3</td>\n",
       "      <td>...</td>\n",
       "      <td>3</td>\n",
       "      <td>3</td>\n",
       "      <td>3</td>\n",
       "      <td>2</td>\n",
       "      <td>3</td>\n",
       "      <td>1</td>\n",
       "      <td>1</td>\n",
       "      <td>3</td>\n",
       "      <td>2</td>\n",
       "      <td>3</td>\n",
       "    </tr>\n",
       "    <tr>\n",
       "      <th>4</th>\n",
       "      <td>Stanford University</td>\n",
       "      <td>243744</td>\n",
       "      <td>CA</td>\n",
       "      <td>3</td>\n",
       "      <td>6</td>\n",
       "      <td>6</td>\n",
       "      <td>6</td>\n",
       "      <td>7</td>\n",
       "      <td>5</td>\n",
       "      <td>5</td>\n",
       "      <td>...</td>\n",
       "      <td>5</td>\n",
       "      <td>6</td>\n",
       "      <td>4</td>\n",
       "      <td>3</td>\n",
       "      <td>2</td>\n",
       "      <td>6</td>\n",
       "      <td>6</td>\n",
       "      <td>1</td>\n",
       "      <td>1</td>\n",
       "      <td>1</td>\n",
       "    </tr>\n",
       "    <tr>\n",
       "      <th>...</th>\n",
       "      <td>...</td>\n",
       "      <td>...</td>\n",
       "      <td>...</td>\n",
       "      <td>...</td>\n",
       "      <td>...</td>\n",
       "      <td>...</td>\n",
       "      <td>...</td>\n",
       "      <td>...</td>\n",
       "      <td>...</td>\n",
       "      <td>...</td>\n",
       "      <td>...</td>\n",
       "      <td>...</td>\n",
       "      <td>...</td>\n",
       "      <td>...</td>\n",
       "      <td>...</td>\n",
       "      <td>...</td>\n",
       "      <td>...</td>\n",
       "      <td>...</td>\n",
       "      <td>...</td>\n",
       "      <td>...</td>\n",
       "      <td>...</td>\n",
       "    </tr>\n",
       "    <tr>\n",
       "      <th>162</th>\n",
       "      <td>University of Cincinnati</td>\n",
       "      <td>201885</td>\n",
       "      <td>OH</td>\n",
       "      <td>&lt;NA&gt;</td>\n",
       "      <td>148</td>\n",
       "      <td>&lt;NA&gt;</td>\n",
       "      <td>&lt;NA&gt;</td>\n",
       "      <td>&lt;NA&gt;</td>\n",
       "      <td>&lt;NA&gt;</td>\n",
       "      <td>&lt;NA&gt;</td>\n",
       "      <td>...</td>\n",
       "      <td>&lt;NA&gt;</td>\n",
       "      <td>&lt;NA&gt;</td>\n",
       "      <td>&lt;NA&gt;</td>\n",
       "      <td>&lt;NA&gt;</td>\n",
       "      <td>&lt;NA&gt;</td>\n",
       "      <td>&lt;NA&gt;</td>\n",
       "      <td>&lt;NA&gt;</td>\n",
       "      <td>&lt;NA&gt;</td>\n",
       "      <td>&lt;NA&gt;</td>\n",
       "      <td>&lt;NA&gt;</td>\n",
       "    </tr>\n",
       "    <tr>\n",
       "      <th>163</th>\n",
       "      <td>University of Mississippi</td>\n",
       "      <td>176017</td>\n",
       "      <td>MS</td>\n",
       "      <td>&lt;NA&gt;</td>\n",
       "      <td>148</td>\n",
       "      <td>&lt;NA&gt;</td>\n",
       "      <td>&lt;NA&gt;</td>\n",
       "      <td>&lt;NA&gt;</td>\n",
       "      <td>&lt;NA&gt;</td>\n",
       "      <td>&lt;NA&gt;</td>\n",
       "      <td>...</td>\n",
       "      <td>&lt;NA&gt;</td>\n",
       "      <td>&lt;NA&gt;</td>\n",
       "      <td>&lt;NA&gt;</td>\n",
       "      <td>&lt;NA&gt;</td>\n",
       "      <td>&lt;NA&gt;</td>\n",
       "      <td>&lt;NA&gt;</td>\n",
       "      <td>&lt;NA&gt;</td>\n",
       "      <td>&lt;NA&gt;</td>\n",
       "      <td>&lt;NA&gt;</td>\n",
       "      <td>&lt;NA&gt;</td>\n",
       "    </tr>\n",
       "    <tr>\n",
       "      <th>164</th>\n",
       "      <td>Ohio University</td>\n",
       "      <td>204857</td>\n",
       "      <td>OH</td>\n",
       "      <td>&lt;NA&gt;</td>\n",
       "      <td>&lt;NA&gt;</td>\n",
       "      <td>&lt;NA&gt;</td>\n",
       "      <td>&lt;NA&gt;</td>\n",
       "      <td>&lt;NA&gt;</td>\n",
       "      <td>&lt;NA&gt;</td>\n",
       "      <td>&lt;NA&gt;</td>\n",
       "      <td>...</td>\n",
       "      <td>&lt;NA&gt;</td>\n",
       "      <td>&lt;NA&gt;</td>\n",
       "      <td>&lt;NA&gt;</td>\n",
       "      <td>&lt;NA&gt;</td>\n",
       "      <td>&lt;NA&gt;</td>\n",
       "      <td>&lt;NA&gt;</td>\n",
       "      <td>&lt;NA&gt;</td>\n",
       "      <td>&lt;NA&gt;</td>\n",
       "      <td>&lt;NA&gt;</td>\n",
       "      <td>&lt;NA&gt;</td>\n",
       "    </tr>\n",
       "    <tr>\n",
       "      <th>165</th>\n",
       "      <td>University of Arkansas</td>\n",
       "      <td>106397</td>\n",
       "      <td>AR</td>\n",
       "      <td>&lt;NA&gt;</td>\n",
       "      <td>&lt;NA&gt;</td>\n",
       "      <td>&lt;NA&gt;</td>\n",
       "      <td>153</td>\n",
       "      <td>147</td>\n",
       "      <td>133</td>\n",
       "      <td>135</td>\n",
       "      <td>...</td>\n",
       "      <td>&lt;NA&gt;</td>\n",
       "      <td>&lt;NA&gt;</td>\n",
       "      <td>&lt;NA&gt;</td>\n",
       "      <td>&lt;NA&gt;</td>\n",
       "      <td>&lt;NA&gt;</td>\n",
       "      <td>&lt;NA&gt;</td>\n",
       "      <td>&lt;NA&gt;</td>\n",
       "      <td>&lt;NA&gt;</td>\n",
       "      <td>&lt;NA&gt;</td>\n",
       "      <td>&lt;NA&gt;</td>\n",
       "    </tr>\n",
       "    <tr>\n",
       "      <th>166</th>\n",
       "      <td>Washington State University</td>\n",
       "      <td>236939</td>\n",
       "      <td>WA</td>\n",
       "      <td>&lt;NA&gt;</td>\n",
       "      <td>&lt;NA&gt;</td>\n",
       "      <td>&lt;NA&gt;</td>\n",
       "      <td>&lt;NA&gt;</td>\n",
       "      <td>&lt;NA&gt;</td>\n",
       "      <td>&lt;NA&gt;</td>\n",
       "      <td>&lt;NA&gt;</td>\n",
       "      <td>...</td>\n",
       "      <td>&lt;NA&gt;</td>\n",
       "      <td>&lt;NA&gt;</td>\n",
       "      <td>&lt;NA&gt;</td>\n",
       "      <td>&lt;NA&gt;</td>\n",
       "      <td>&lt;NA&gt;</td>\n",
       "      <td>&lt;NA&gt;</td>\n",
       "      <td>&lt;NA&gt;</td>\n",
       "      <td>&lt;NA&gt;</td>\n",
       "      <td>&lt;NA&gt;</td>\n",
       "      <td>&lt;NA&gt;</td>\n",
       "    </tr>\n",
       "  </tbody>\n",
       "</table>\n",
       "<p>167 rows × 41 columns</p>\n",
       "</div>"
      ],
      "text/plain": [
       "                                University      ID State  2023  2022  2021  \\\n",
       "0                     Princeton University  186131    NJ     1     1     1   \n",
       "1    Massachusetts Institute of Technology  166683    MA     2     2     4   \n",
       "2                       Harvard University  166027    MA     3     2     2   \n",
       "3                          Yale University  130794    CT     3     5     4   \n",
       "4                      Stanford University  243744    CA     3     6     6   \n",
       "..                                     ...     ...   ...   ...   ...   ...   \n",
       "162               University of Cincinnati  201885    OH  <NA>   148  <NA>   \n",
       "163              University of Mississippi  176017    MS  <NA>   148  <NA>   \n",
       "164                        Ohio University  204857    OH  <NA>  <NA>  <NA>   \n",
       "165                 University of Arkansas  106397    AR  <NA>  <NA>  <NA>   \n",
       "166            Washington State University  236939    WA  <NA>  <NA>  <NA>   \n",
       "\n",
       "     2020  2019  2018  2017  ...  1995  1994  1993  1992  1991  1990  1989  \\\n",
       "0       1     1     1     1  ...     2     2     2     4     4     2     2   \n",
       "1       3     3     5     7  ...     4     4     5     6     6     7     5   \n",
       "2       2     2     2     2  ...     1     1     1     1     1     3     4   \n",
       "3       3     3     3     3  ...     3     3     3     2     3     1     1   \n",
       "4       6     7     5     5  ...     5     6     4     3     2     6     6   \n",
       "..    ...   ...   ...   ...  ...   ...   ...   ...   ...   ...   ...   ...   \n",
       "162  <NA>  <NA>  <NA>  <NA>  ...  <NA>  <NA>  <NA>  <NA>  <NA>  <NA>  <NA>   \n",
       "163  <NA>  <NA>  <NA>  <NA>  ...  <NA>  <NA>  <NA>  <NA>  <NA>  <NA>  <NA>   \n",
       "164  <NA>  <NA>  <NA>  <NA>  ...  <NA>  <NA>  <NA>  <NA>  <NA>  <NA>  <NA>   \n",
       "165   153   147   133   135  ...  <NA>  <NA>  <NA>  <NA>  <NA>  <NA>  <NA>   \n",
       "166  <NA>  <NA>  <NA>  <NA>  ...  <NA>  <NA>  <NA>  <NA>  <NA>  <NA>  <NA>   \n",
       "\n",
       "     1988  1986  1984  \n",
       "0       4     4     4  \n",
       "1      11  <NA>    10  \n",
       "2       2     2     2  \n",
       "3       3     2     3  \n",
       "4       1     1     1  \n",
       "..    ...   ...   ...  \n",
       "162  <NA>  <NA>  <NA>  \n",
       "163  <NA>  <NA>  <NA>  \n",
       "164  <NA>  <NA>  <NA>  \n",
       "165  <NA>  <NA>  <NA>  \n",
       "166  <NA>  <NA>  <NA>  \n",
       "\n",
       "[167 rows x 41 columns]"
      ]
     },
     "execution_count": 23,
     "metadata": {},
     "output_type": "execute_result"
    }
   ],
   "source": [
    "# Data Cleaning\n",
    "\n",
    "# Select all numeric columns\n",
    "numeric_cols = us_data.select_dtypes(include='number').columns\n",
    "\n",
    "# Round these columns\n",
    "us_data[numeric_cols] = us_data[numeric_cols].round().astype('Int64')  # Use 'Int64' to maintain NaN values\n",
    "\n",
    "# Drop the header and set the first row as the header\n",
    "new_header = us_data.iloc[0]\n",
    "us_data = us_data[1:]\n",
    "us_data.columns = new_header\n",
    "us_data.columns = us_data.columns.astype(str)\n",
    "us_data.columns = [int(col) if col.isdigit() else col for col in us_data.columns]\n",
    "\n",
    "# Rename the columns to make it more understandable\n",
    "us_data = us_data.rename(columns={'University Name': 'University', 'IPEDS ID': 'ID'})\n",
    "\n",
    "us_data = us_data.reset_index(drop=True)\n",
    "us_data.to_excel('cleaned_us_data.xlsx', index=False)\n",
    "\n",
    "us_data"
   ]
  },
  {
   "cell_type": "markdown",
   "id": "1a84c30d",
   "metadata": {},
   "source": [
    "### **1. Line Chart Depicting the Fluctuations in the US News Top 10 Rankings Over Various Years**"
   ]
  },
  {
   "cell_type": "code",
   "execution_count": 24,
   "id": "fb09331c",
   "metadata": {
    "ExecuteTime": {
     "end_time": "2023-11-05T09:34:28.289125400Z",
     "start_time": "2023-11-05T09:34:28.273159200Z"
    }
   },
   "outputs": [
    {
     "data": {
      "text/html": [
       "<div>\n",
       "<style scoped>\n",
       "    .dataframe tbody tr th:only-of-type {\n",
       "        vertical-align: middle;\n",
       "    }\n",
       "\n",
       "    .dataframe tbody tr th {\n",
       "        vertical-align: top;\n",
       "    }\n",
       "\n",
       "    .dataframe thead th {\n",
       "        text-align: right;\n",
       "    }\n",
       "</style>\n",
       "<table border=\"1\" class=\"dataframe\">\n",
       "  <thead>\n",
       "    <tr style=\"text-align: right;\">\n",
       "      <th></th>\n",
       "      <th>University</th>\n",
       "      <th>2023</th>\n",
       "      <th>2022</th>\n",
       "      <th>2021</th>\n",
       "      <th>2020</th>\n",
       "      <th>2019</th>\n",
       "      <th>2018</th>\n",
       "      <th>2017</th>\n",
       "      <th>2016</th>\n",
       "      <th>2015</th>\n",
       "      <th>2014</th>\n",
       "    </tr>\n",
       "  </thead>\n",
       "  <tbody>\n",
       "    <tr>\n",
       "      <th>0</th>\n",
       "      <td>Princeton University</td>\n",
       "      <td>1</td>\n",
       "      <td>1</td>\n",
       "      <td>1</td>\n",
       "      <td>1</td>\n",
       "      <td>1</td>\n",
       "      <td>1</td>\n",
       "      <td>1</td>\n",
       "      <td>1</td>\n",
       "      <td>1</td>\n",
       "      <td>1</td>\n",
       "    </tr>\n",
       "    <tr>\n",
       "      <th>1</th>\n",
       "      <td>Massachusetts Institute of Technology</td>\n",
       "      <td>2</td>\n",
       "      <td>2</td>\n",
       "      <td>4</td>\n",
       "      <td>3</td>\n",
       "      <td>3</td>\n",
       "      <td>5</td>\n",
       "      <td>7</td>\n",
       "      <td>7</td>\n",
       "      <td>7</td>\n",
       "      <td>7</td>\n",
       "    </tr>\n",
       "    <tr>\n",
       "      <th>2</th>\n",
       "      <td>Harvard University</td>\n",
       "      <td>3</td>\n",
       "      <td>2</td>\n",
       "      <td>2</td>\n",
       "      <td>2</td>\n",
       "      <td>2</td>\n",
       "      <td>2</td>\n",
       "      <td>2</td>\n",
       "      <td>2</td>\n",
       "      <td>2</td>\n",
       "      <td>2</td>\n",
       "    </tr>\n",
       "    <tr>\n",
       "      <th>3</th>\n",
       "      <td>Yale University</td>\n",
       "      <td>3</td>\n",
       "      <td>5</td>\n",
       "      <td>4</td>\n",
       "      <td>3</td>\n",
       "      <td>3</td>\n",
       "      <td>3</td>\n",
       "      <td>3</td>\n",
       "      <td>3</td>\n",
       "      <td>3</td>\n",
       "      <td>3</td>\n",
       "    </tr>\n",
       "    <tr>\n",
       "      <th>4</th>\n",
       "      <td>Stanford University</td>\n",
       "      <td>3</td>\n",
       "      <td>6</td>\n",
       "      <td>6</td>\n",
       "      <td>6</td>\n",
       "      <td>7</td>\n",
       "      <td>5</td>\n",
       "      <td>5</td>\n",
       "      <td>4</td>\n",
       "      <td>4</td>\n",
       "      <td>5</td>\n",
       "    </tr>\n",
       "  </tbody>\n",
       "</table>\n",
       "</div>"
      ],
      "text/plain": [
       "                              University  2023  2022  2021  2020  2019  2018  \\\n",
       "0                   Princeton University     1     1     1     1     1     1   \n",
       "1  Massachusetts Institute of Technology     2     2     4     3     3     5   \n",
       "2                     Harvard University     3     2     2     2     2     2   \n",
       "3                        Yale University     3     5     4     3     3     3   \n",
       "4                    Stanford University     3     6     6     6     7     5   \n",
       "\n",
       "   2017  2016  2015  2014  \n",
       "0     1     1     1     1  \n",
       "1     7     7     7     7  \n",
       "2     2     2     2     2  \n",
       "3     3     3     3     3  \n",
       "4     5     4     4     5  "
      ]
     },
     "execution_count": 24,
     "metadata": {},
     "output_type": "execute_result"
    }
   ],
   "source": [
    "# Filter out the top 10 universities based on their 2023 ranking\n",
    "top_10_2023 = us_data.sort_values(by=2023, ascending=True).head(10)\n",
    "\n",
    "# Extract the rankings for these top 10 universities over the last 10 years\n",
    "last_10_years = us_data.columns[3:13].tolist()\n",
    "top_10_rankings = top_10_2023[['University'] + last_10_years]\n",
    "\n",
    "top_10_rankings.head()"
   ]
  },
  {
   "cell_type": "code",
   "execution_count": 25,
   "id": "aa66b6f50874b0c9",
   "metadata": {
    "ExecuteTime": {
     "end_time": "2023-11-05T09:34:28.475646Z",
     "start_time": "2023-11-05T09:34:28.292129700Z"
    }
   },
   "outputs": [
    {
     "data": {
      "image/png": "[encoded data removed]",
      "text/plain": [
       "<Figure size 1600x1200 with 1 Axes>"
      ]
     },
     "metadata": {},
     "output_type": "display_data"
    }
   ],
   "source": [
    "# Plotting\n",
    "plt.figure(figsize=(16, 12))\n",
    "\n",
    "# Define colors for different universities\n",
    "colors = plt.cm.tab10(np.linspace(0, 1, 10))\n",
    "\n",
    "# Plot each university's rankings over the last 10 years\n",
    "for index, (idx, row) in enumerate (top_10_rankings.iterrows()):\n",
    "    plt.plot(last_10_years, row[1:].values, label = row['University'], marker = 'o', color = colors[index], linestyle = '-', linewidth = 2)\n",
    "\n",
    "# Add labels, title, legend, and font settings etc.\n",
    "plt.title ('US News Top 10 University Rankings over the Last 10 Years (Based on 2023 Rankings)'\n",
    "           , fontsize = 20, fontname = 'Arial', fontweight = 'bold')\n",
    "plt.xlabel ('Year', fontsize = 18, fontname = 'Arial', fontweight = 'bold')\n",
    "plt.ylabel ('Ranking', fontsize = 18, fontname = 'Arial', fontweight = 'bold') \n",
    "plt.gca().set_ylim(13,0) # adjust y-axis range to ensure all lines are visible\n",
    "plt.xticks(fontsize = 16, fontname = 'Arial', fontweight = 'bold')\n",
    "plt.yticks(range(1,13), fontsize = 16, fontname = 'Arial', fontweight = 'bold')\n",
    "\n",
    "# Change the color of the ticks after the 10th tick\n",
    "for label in plt.gca().get_yticklabels():\n",
    "    if label.get_text()in ['11','12']:\n",
    "        label.set_color('grey')\n",
    "        label.set_alpha(0.5)\n",
    "\n",
    "plt.legend (loc = 'upper center', bbox_to_anchor = (0.5, -0.1), ncol = 2, fontsize = 16, fancybox = True, shadow = True, frameon = True, edgecolor = 'black', facecolor = 'white')\n",
    "plt.grid (True, which = 'both', linestyle = '--', linewidth = 0.5, color = 'grey', alpha = 0.5)\n",
    "plt.tight_layout()\n",
    "\n",
    "#Show the plot\n",
    "plt.show()\n"
   ]
  },
  {
   "cell_type": "markdown",
   "id": "fdb43db0",
   "metadata": {},
   "source": [
    "### **2. Box Plot Illustrating Variations in the US News Top 10 Rankings Over the Years**"
   ]
  },
  {
   "cell_type": "code",
   "execution_count": 26,
   "id": "57e24c3becf4dd18",
   "metadata": {
    "ExecuteTime": {
     "end_time": "2023-11-05T09:34:28.489338500Z",
     "start_time": "2023-11-05T09:34:28.474646600Z"
    }
   },
   "outputs": [
    {
     "data": {
      "text/html": [
       "<div>\n",
       "<style scoped>\n",
       "    .dataframe tbody tr th:only-of-type {\n",
       "        vertical-align: middle;\n",
       "    }\n",
       "\n",
       "    .dataframe tbody tr th {\n",
       "        vertical-align: top;\n",
       "    }\n",
       "\n",
       "    .dataframe thead th {\n",
       "        text-align: right;\n",
       "    }\n",
       "</style>\n",
       "<table border=\"1\" class=\"dataframe\">\n",
       "  <thead>\n",
       "    <tr style=\"text-align: right;\">\n",
       "      <th></th>\n",
       "      <th>2023</th>\n",
       "      <th>2022</th>\n",
       "      <th>2021</th>\n",
       "      <th>2020</th>\n",
       "      <th>2019</th>\n",
       "      <th>2018</th>\n",
       "      <th>2017</th>\n",
       "      <th>2016</th>\n",
       "      <th>2015</th>\n",
       "      <th>2014</th>\n",
       "    </tr>\n",
       "    <tr>\n",
       "      <th>University</th>\n",
       "      <th></th>\n",
       "      <th></th>\n",
       "      <th></th>\n",
       "      <th></th>\n",
       "      <th></th>\n",
       "      <th></th>\n",
       "      <th></th>\n",
       "      <th></th>\n",
       "      <th></th>\n",
       "      <th></th>\n",
       "    </tr>\n",
       "  </thead>\n",
       "  <tbody>\n",
       "    <tr>\n",
       "      <th>Princeton University</th>\n",
       "      <td>1</td>\n",
       "      <td>1</td>\n",
       "      <td>1</td>\n",
       "      <td>1</td>\n",
       "      <td>1</td>\n",
       "      <td>1</td>\n",
       "      <td>1</td>\n",
       "      <td>1</td>\n",
       "      <td>1</td>\n",
       "      <td>1</td>\n",
       "    </tr>\n",
       "    <tr>\n",
       "      <th>Massachusetts Institute of Technology</th>\n",
       "      <td>2</td>\n",
       "      <td>2</td>\n",
       "      <td>4</td>\n",
       "      <td>3</td>\n",
       "      <td>3</td>\n",
       "      <td>5</td>\n",
       "      <td>7</td>\n",
       "      <td>7</td>\n",
       "      <td>7</td>\n",
       "      <td>7</td>\n",
       "    </tr>\n",
       "    <tr>\n",
       "      <th>Harvard University</th>\n",
       "      <td>3</td>\n",
       "      <td>2</td>\n",
       "      <td>2</td>\n",
       "      <td>2</td>\n",
       "      <td>2</td>\n",
       "      <td>2</td>\n",
       "      <td>2</td>\n",
       "      <td>2</td>\n",
       "      <td>2</td>\n",
       "      <td>2</td>\n",
       "    </tr>\n",
       "    <tr>\n",
       "      <th>Yale University</th>\n",
       "      <td>3</td>\n",
       "      <td>5</td>\n",
       "      <td>4</td>\n",
       "      <td>3</td>\n",
       "      <td>3</td>\n",
       "      <td>3</td>\n",
       "      <td>3</td>\n",
       "      <td>3</td>\n",
       "      <td>3</td>\n",
       "      <td>3</td>\n",
       "    </tr>\n",
       "    <tr>\n",
       "      <th>Stanford University</th>\n",
       "      <td>3</td>\n",
       "      <td>6</td>\n",
       "      <td>6</td>\n",
       "      <td>6</td>\n",
       "      <td>7</td>\n",
       "      <td>5</td>\n",
       "      <td>5</td>\n",
       "      <td>4</td>\n",
       "      <td>4</td>\n",
       "      <td>5</td>\n",
       "    </tr>\n",
       "  </tbody>\n",
       "</table>\n",
       "</div>"
      ],
      "text/plain": [
       "                                       2023  2022  2021  2020  2019  2018  \\\n",
       "University                                                                  \n",
       "Princeton University                      1     1     1     1     1     1   \n",
       "Massachusetts Institute of Technology     2     2     4     3     3     5   \n",
       "Harvard University                        3     2     2     2     2     2   \n",
       "Yale University                           3     5     4     3     3     3   \n",
       "Stanford University                       3     6     6     6     7     5   \n",
       "\n",
       "                                       2017  2016  2015  2014  \n",
       "University                                                     \n",
       "Princeton University                      1     1     1     1  \n",
       "Massachusetts Institute of Technology     7     7     7     7  \n",
       "Harvard University                        2     2     2     2  \n",
       "Yale University                           3     3     3     3  \n",
       "Stanford University                       5     4     4     5  "
      ]
     },
     "execution_count": 26,
     "metadata": {},
     "output_type": "execute_result"
    }
   ],
   "source": [
    "# Reverse the order of the universities for plotting box plot\n",
    "top_10_rankings.set_index('University',inplace=True)\n",
    "top_10_rankings = top_10_rankings.sort_values(by=2023, ascending=True, kind = 'mergesort')\n",
    "top_10_rankings.head()"
   ]
  },
  {
   "cell_type": "code",
   "execution_count": 27,
   "id": "8aa12fc25c2eb749",
   "metadata": {
    "ExecuteTime": {
     "end_time": "2023-11-05T09:34:28.814890100Z",
     "start_time": "2023-11-05T09:34:28.492859400Z"
    }
   },
   "outputs": [
    {
     "data": {
      "image/png": "[encoded data removed]",
      "text/plain": [
       "<Figure size 1600x1200 with 1 Axes>"
      ]
     },
     "metadata": {},
     "output_type": "display_data"
    }
   ],
   "source": [
    "plt.figure(figsize=(16, 12))\n",
    "box_colors = plt.cm.tab10.colors  # define colors for different universities\n",
    "\n",
    "# Plot each university's rankings over the last 10 years\n",
    "for index, (university_name, row_data) in enumerate(top_10_rankings.iterrows()): \n",
    "    # Drop NaN values\n",
    "    box_data = row_data.dropna()\n",
    "    # Reverse the order of the data to match the order of the universities\n",
    "    position = len(top_10_rankings) - index\n",
    "    boxplot = plt.boxplot(box_data, vert=False, positions=[position], patch_artist=True)\n",
    "\n",
    "    # Set the color of the box\n",
    "    for patch in boxplot['boxes']:\n",
    "        patch.set_facecolor(box_colors[index % len(box_colors)]) # set facecolor to the color of the university\n",
    "\n",
    "    # Set the color of the whiskers, fliers, caps, and medians\n",
    "    for element in ['whiskers', 'fliers', 'caps', 'medians']:\n",
    "        plt.setp(boxplot[element], color=box_colors[index % len(box_colors)])\n",
    "\n",
    "plt.title('US News Top 10 University Rankings Distribution Over the Last 10 Years (Based on 2023 Rankings)',\n",
    "          fontsize=22, fontweight='bold')\n",
    "plt.xlabel('Ranking', fontsize=18, fontweight='bold')\n",
    "plt.ylabel('University', fontsize=18, fontweight='bold')\n",
    "\n",
    "# Set the yticks and yticklabels\n",
    "ytick_positions = [len(top_10_rankings) - i for i in range(len(top_10_rankings))]\n",
    "ytick_labels = top_10_rankings.index.tolist()  # get the university names\n",
    "plt.yticks(ticks=ytick_positions, labels=ytick_labels, fontsize=18, fontweight='bold')\n",
    "\n",
    "# Set the color of the yticklabels\n",
    "for i, tick_label in enumerate(plt.gca().get_yticklabels()):\n",
    "    tick_label.set_color(box_colors[i % len(box_colors)])\n",
    "\n",
    "plt.xticks(fontsize=18)\n",
    "plt.grid(True, which='both', linestyle='--', linewidth=0.5, alpha=0.7)\n",
    "plt.tight_layout()\n",
    "\n",
    "plt.show()"
   ]
  },
  {
   "cell_type": "markdown",
   "id": "fd855024",
   "metadata": {},
   "source": [
    "### **3. Line Chart Depicting the Fluctuations of Vanderbilt University Rankings Over Various Years**"
   ]
  },
  {
   "cell_type": "code",
   "execution_count": 28,
   "id": "717ccba7",
   "metadata": {
    "ExecuteTime": {
     "end_time": "2023-11-05T09:34:28.968618100Z",
     "start_time": "2023-11-05T09:34:28.814890100Z"
    }
   },
   "outputs": [
    {
     "data": {
      "image/png": "[encoded data removed]",
      "text/plain": [
       "<Figure size 1800x1000 with 1 Axes>"
      ]
     },
     "metadata": {},
     "output_type": "display_data"
    }
   ],
   "source": [
    "# Extract all years' rankings for Vanderbilt University\n",
    "vanderbilt_all_rankings = us_data[us_data['University'] == 'Vanderbilt University'].iloc[:, 3:].T\n",
    "vanderbilt_all_rankings = vanderbilt_all_rankings.rename(columns={vanderbilt_all_rankings.columns[0]: 'Ranking'})\n",
    "\n",
    "# Drop rows with missing values for Vanderbilt University\n",
    "vanderbilt_cleaned_rankings = vanderbilt_all_rankings.dropna()\n",
    "\n",
    "# Plotting the cleaned ranking trend for Vanderbilt University for all years\n",
    "plt.figure(figsize=(18, 10))\n",
    "plt.plot(vanderbilt_cleaned_rankings.index, vanderbilt_cleaned_rankings['Ranking'], marker='o', color='darkcyan', linestyle='-', linewidth=2)\n",
    "\n",
    "# Adding labels for each even data point\n",
    "for i, (year, rank) in enumerate(vanderbilt_cleaned_rankings.iterrows()): \n",
    "    if i % 2 == 0: # Check if the index is even (every second year) \n",
    "        plt.text(year, rank['Ranking'] - 0.2, f\"{rank['Ranking']:.0f}\",\n",
    "                 ha='center',fontsize = 16, fontweight = 'bold', va='bottom')\n",
    "\n",
    "plt.ylim(12, 26) # adjust y-axis range\n",
    "\n",
    "# Add labels, title, legend, and font settings etc.\n",
    "plt.title('US News Ranking Trend for Vanderbilt University', \n",
    "          fontsize=28, fontweight='bold')\n",
    "plt.xlabel('Year', fontsize=20, fontweight='bold')\n",
    "plt.ylabel('Ranking', fontsize=20, fontweight='bold')\n",
    "plt.xticks(fontsize=18)\n",
    "plt.yticks(fontsize=18)\n",
    "plt.gca().invert_yaxis()  # Invert y axis so that 1st rank is at the top\n",
    "plt.grid(True, which='both', linestyle='--', linewidth=0.5, alpha=0.7)\n",
    "plt.tight_layout()\n",
    "\n",
    "# Show the plot\n",
    "plt.show()\n"
   ]
  },
  {
   "cell_type": "markdown",
   "id": "aa912cb8",
   "metadata": {},
   "source": [
    "### **4. Comparison of National Rankings of US Universities between US News and QS**"
   ]
  },
  {
   "cell_type": "code",
   "execution_count": 29,
   "id": "188a5570fbf636b9",
   "metadata": {
    "ExecuteTime": {
     "end_time": "2023-11-05T09:34:29.090536700Z",
     "start_time": "2023-11-05T09:34:28.968618100Z"
    }
   },
   "outputs": [
    {
     "data": {
      "text/html": [
       "<div>\n",
       "<style scoped>\n",
       "    .dataframe tbody tr th:only-of-type {\n",
       "        vertical-align: middle;\n",
       "    }\n",
       "\n",
       "    .dataframe tbody tr th {\n",
       "        vertical-align: top;\n",
       "    }\n",
       "\n",
       "    .dataframe thead th {\n",
       "        text-align: right;\n",
       "    }\n",
       "</style>\n",
       "<table border=\"1\" class=\"dataframe\">\n",
       "  <thead>\n",
       "    <tr style=\"text-align: right;\">\n",
       "      <th></th>\n",
       "      <th>2024 RANK</th>\n",
       "      <th>2023 RANK</th>\n",
       "      <th>Institution Name</th>\n",
       "      <th>Country Code</th>\n",
       "      <th>Country</th>\n",
       "      <th>SIZE</th>\n",
       "      <th>FOCUS</th>\n",
       "      <th>RES.</th>\n",
       "      <th>AGE</th>\n",
       "      <th>STATUS</th>\n",
       "      <th>...</th>\n",
       "      <th>International Faculty Rank</th>\n",
       "      <th>International Students Score</th>\n",
       "      <th>International Students Rank</th>\n",
       "      <th>International Research Network Score</th>\n",
       "      <th>International Research Network Rank</th>\n",
       "      <th>Employment Outcomes Score</th>\n",
       "      <th>Employment Outcomes Rank</th>\n",
       "      <th>Sustainability Score</th>\n",
       "      <th>Sustainability Rank</th>\n",
       "      <th>Overall SCORE</th>\n",
       "    </tr>\n",
       "  </thead>\n",
       "  <tbody>\n",
       "    <tr>\n",
       "      <th>0</th>\n",
       "      <td>rank display</td>\n",
       "      <td>rank display2</td>\n",
       "      <td>institution</td>\n",
       "      <td>location code</td>\n",
       "      <td>location</td>\n",
       "      <td>size</td>\n",
       "      <td>focus</td>\n",
       "      <td>research</td>\n",
       "      <td>age band</td>\n",
       "      <td>status</td>\n",
       "      <td>...</td>\n",
       "      <td>ifr rank</td>\n",
       "      <td>isr score</td>\n",
       "      <td>isr rank</td>\n",
       "      <td>irn score</td>\n",
       "      <td>irn rank</td>\n",
       "      <td>ger score</td>\n",
       "      <td>ger rank</td>\n",
       "      <td>SUS SCORE</td>\n",
       "      <td>SUS RANK</td>\n",
       "      <td>Overall Score</td>\n",
       "    </tr>\n",
       "    <tr>\n",
       "      <th>1</th>\n",
       "      <td>1</td>\n",
       "      <td>1</td>\n",
       "      <td>Massachusetts Institute of Technology (MIT)</td>\n",
       "      <td>US</td>\n",
       "      <td>United States</td>\n",
       "      <td>M</td>\n",
       "      <td>CO</td>\n",
       "      <td>VH</td>\n",
       "      <td>5</td>\n",
       "      <td>B</td>\n",
       "      <td>...</td>\n",
       "      <td>56</td>\n",
       "      <td>88.2</td>\n",
       "      <td>128</td>\n",
       "      <td>94.3</td>\n",
       "      <td>58</td>\n",
       "      <td>100</td>\n",
       "      <td>4</td>\n",
       "      <td>95.2</td>\n",
       "      <td>51</td>\n",
       "      <td>100.0</td>\n",
       "    </tr>\n",
       "    <tr>\n",
       "      <th>2</th>\n",
       "      <td>2</td>\n",
       "      <td>2</td>\n",
       "      <td>University of Cambridge</td>\n",
       "      <td>UK</td>\n",
       "      <td>United Kingdom</td>\n",
       "      <td>L</td>\n",
       "      <td>FC</td>\n",
       "      <td>VH</td>\n",
       "      <td>5</td>\n",
       "      <td>A</td>\n",
       "      <td>...</td>\n",
       "      <td>64</td>\n",
       "      <td>95.8</td>\n",
       "      <td>85</td>\n",
       "      <td>99.9</td>\n",
       "      <td>7</td>\n",
       "      <td>100</td>\n",
       "      <td>6</td>\n",
       "      <td>97.3</td>\n",
       "      <td>33=</td>\n",
       "      <td>99.2</td>\n",
       "    </tr>\n",
       "    <tr>\n",
       "      <th>3</th>\n",
       "      <td>3</td>\n",
       "      <td>4</td>\n",
       "      <td>University of Oxford</td>\n",
       "      <td>UK</td>\n",
       "      <td>United Kingdom</td>\n",
       "      <td>L</td>\n",
       "      <td>FC</td>\n",
       "      <td>VH</td>\n",
       "      <td>5</td>\n",
       "      <td>A</td>\n",
       "      <td>...</td>\n",
       "      <td>110</td>\n",
       "      <td>98.2</td>\n",
       "      <td>60</td>\n",
       "      <td>100.0</td>\n",
       "      <td>1</td>\n",
       "      <td>100</td>\n",
       "      <td>3</td>\n",
       "      <td>97.8</td>\n",
       "      <td>26=</td>\n",
       "      <td>98.9</td>\n",
       "    </tr>\n",
       "    <tr>\n",
       "      <th>4</th>\n",
       "      <td>4</td>\n",
       "      <td>5</td>\n",
       "      <td>Harvard University</td>\n",
       "      <td>US</td>\n",
       "      <td>United States</td>\n",
       "      <td>L</td>\n",
       "      <td>FC</td>\n",
       "      <td>VH</td>\n",
       "      <td>5</td>\n",
       "      <td>B</td>\n",
       "      <td>...</td>\n",
       "      <td>210</td>\n",
       "      <td>66.8</td>\n",
       "      <td>223</td>\n",
       "      <td>100.0</td>\n",
       "      <td>5</td>\n",
       "      <td>100</td>\n",
       "      <td>1</td>\n",
       "      <td>96.7</td>\n",
       "      <td>39</td>\n",
       "      <td>98.3</td>\n",
       "    </tr>\n",
       "    <tr>\n",
       "      <th>...</th>\n",
       "      <td>...</td>\n",
       "      <td>...</td>\n",
       "      <td>...</td>\n",
       "      <td>...</td>\n",
       "      <td>...</td>\n",
       "      <td>...</td>\n",
       "      <td>...</td>\n",
       "      <td>...</td>\n",
       "      <td>...</td>\n",
       "      <td>...</td>\n",
       "      <td>...</td>\n",
       "      <td>...</td>\n",
       "      <td>...</td>\n",
       "      <td>...</td>\n",
       "      <td>...</td>\n",
       "      <td>...</td>\n",
       "      <td>...</td>\n",
       "      <td>...</td>\n",
       "      <td>...</td>\n",
       "      <td>...</td>\n",
       "      <td>...</td>\n",
       "    </tr>\n",
       "    <tr>\n",
       "      <th>1493</th>\n",
       "      <td>1401+</td>\n",
       "      <td>1401+</td>\n",
       "      <td>University of Oradea</td>\n",
       "      <td>RO</td>\n",
       "      <td>Romania</td>\n",
       "      <td>L</td>\n",
       "      <td>FC</td>\n",
       "      <td>MD</td>\n",
       "      <td>4</td>\n",
       "      <td>A</td>\n",
       "      <td>...</td>\n",
       "      <td>701+</td>\n",
       "      <td>7.0</td>\n",
       "      <td>701+</td>\n",
       "      <td>1.8</td>\n",
       "      <td>701+</td>\n",
       "      <td>5.9</td>\n",
       "      <td>701+</td>\n",
       "      <td>2.2</td>\n",
       "      <td>701+</td>\n",
       "      <td>-</td>\n",
       "    </tr>\n",
       "    <tr>\n",
       "      <th>1494</th>\n",
       "      <td>1401+</td>\n",
       "      <td>NaN</td>\n",
       "      <td>University of Stavanger</td>\n",
       "      <td>NO</td>\n",
       "      <td>Norway</td>\n",
       "      <td>NaN</td>\n",
       "      <td>CO</td>\n",
       "      <td>NaN</td>\n",
       "      <td>2</td>\n",
       "      <td>NaN</td>\n",
       "      <td>...</td>\n",
       "      <td>NaN</td>\n",
       "      <td>NaN</td>\n",
       "      <td>NaN</td>\n",
       "      <td>26.3</td>\n",
       "      <td>489</td>\n",
       "      <td>NaN</td>\n",
       "      <td>NaN</td>\n",
       "      <td>NaN</td>\n",
       "      <td>NaN</td>\n",
       "      <td>-</td>\n",
       "    </tr>\n",
       "    <tr>\n",
       "      <th>1495</th>\n",
       "      <td>1401+</td>\n",
       "      <td>1201-1400</td>\n",
       "      <td>University Politehnica of Timisoara, UPT</td>\n",
       "      <td>RO</td>\n",
       "      <td>Romania</td>\n",
       "      <td>M</td>\n",
       "      <td>FO</td>\n",
       "      <td>VH</td>\n",
       "      <td>5</td>\n",
       "      <td>A</td>\n",
       "      <td>...</td>\n",
       "      <td>701+</td>\n",
       "      <td>2.9</td>\n",
       "      <td>701+</td>\n",
       "      <td>1.3</td>\n",
       "      <td>701+</td>\n",
       "      <td>8.5</td>\n",
       "      <td>701+</td>\n",
       "      <td>1</td>\n",
       "      <td>701+</td>\n",
       "      <td>-</td>\n",
       "    </tr>\n",
       "    <tr>\n",
       "      <th>1496</th>\n",
       "      <td>1401+</td>\n",
       "      <td>1201-1400</td>\n",
       "      <td>Western Washington University</td>\n",
       "      <td>US</td>\n",
       "      <td>United States</td>\n",
       "      <td>L</td>\n",
       "      <td>CO</td>\n",
       "      <td>HI</td>\n",
       "      <td>5</td>\n",
       "      <td>NaN</td>\n",
       "      <td>...</td>\n",
       "      <td>676</td>\n",
       "      <td>1.4</td>\n",
       "      <td>701+</td>\n",
       "      <td>1.0</td>\n",
       "      <td>701+</td>\n",
       "      <td>7.3</td>\n",
       "      <td>701+</td>\n",
       "      <td>NaN</td>\n",
       "      <td>NaN</td>\n",
       "      <td>-</td>\n",
       "    </tr>\n",
       "    <tr>\n",
       "      <th>1497</th>\n",
       "      <td>1401+</td>\n",
       "      <td>NaN</td>\n",
       "      <td>Zürcher Hochschule Winterthur</td>\n",
       "      <td>CH</td>\n",
       "      <td>Switzerland</td>\n",
       "      <td>NaN</td>\n",
       "      <td>CO</td>\n",
       "      <td>NaN</td>\n",
       "      <td>NaN</td>\n",
       "      <td>NaN</td>\n",
       "      <td>...</td>\n",
       "      <td>NaN</td>\n",
       "      <td>NaN</td>\n",
       "      <td>NaN</td>\n",
       "      <td>1.7</td>\n",
       "      <td>701+</td>\n",
       "      <td>NaN</td>\n",
       "      <td>NaN</td>\n",
       "      <td>NaN</td>\n",
       "      <td>NaN</td>\n",
       "      <td>-</td>\n",
       "    </tr>\n",
       "  </tbody>\n",
       "</table>\n",
       "<p>1498 rows × 29 columns</p>\n",
       "</div>"
      ],
      "text/plain": [
       "         2024 RANK      2023 RANK  \\\n",
       "0     rank display  rank display2   \n",
       "1                1              1   \n",
       "2                2              2   \n",
       "3                3              4   \n",
       "4                4              5   \n",
       "...            ...            ...   \n",
       "1493         1401+          1401+   \n",
       "1494         1401+            NaN   \n",
       "1495         1401+      1201-1400   \n",
       "1496         1401+      1201-1400   \n",
       "1497         1401+            NaN   \n",
       "\n",
       "                                  Institution Name   Country Code  \\\n",
       "0                                      institution  location code   \n",
       "1     Massachusetts Institute of Technology (MIT)              US   \n",
       "2                          University of Cambridge             UK   \n",
       "3                             University of Oxford             UK   \n",
       "4                               Harvard University             US   \n",
       "...                                            ...            ...   \n",
       "1493                          University of Oradea             RO   \n",
       "1494                       University of Stavanger             NO   \n",
       "1495      University Politehnica of Timisoara, UPT             RO   \n",
       "1496                 Western Washington University             US   \n",
       "1497                 Zürcher Hochschule Winterthur             CH   \n",
       "\n",
       "             Country  SIZE  FOCUS      RES.       AGE  STATUS  ...  \\\n",
       "0           location  size  focus  research  age band  status  ...   \n",
       "1      United States     M     CO        VH         5       B  ...   \n",
       "2     United Kingdom     L     FC        VH         5       A  ...   \n",
       "3     United Kingdom     L     FC        VH         5       A  ...   \n",
       "4      United States     L     FC        VH         5       B  ...   \n",
       "...              ...   ...    ...       ...       ...     ...  ...   \n",
       "1493         Romania     L     FC        MD         4       A  ...   \n",
       "1494          Norway   NaN     CO       NaN         2     NaN  ...   \n",
       "1495         Romania     M     FO        VH         5       A  ...   \n",
       "1496   United States     L     CO        HI         5     NaN  ...   \n",
       "1497     Switzerland   NaN     CO       NaN       NaN     NaN  ...   \n",
       "\n",
       "     International Faculty Rank International Students Score  \\\n",
       "0                      ifr rank                    isr score   \n",
       "1                            56                         88.2   \n",
       "2                            64                         95.8   \n",
       "3                           110                         98.2   \n",
       "4                           210                         66.8   \n",
       "...                         ...                          ...   \n",
       "1493                       701+                          7.0   \n",
       "1494                        NaN                          NaN   \n",
       "1495                       701+                          2.9   \n",
       "1496                        676                          1.4   \n",
       "1497                        NaN                          NaN   \n",
       "\n",
       "     International Students Rank International Research Network Score  \\\n",
       "0                       isr rank                            irn score   \n",
       "1                            128                                 94.3   \n",
       "2                             85                                 99.9   \n",
       "3                             60                                100.0   \n",
       "4                            223                                100.0   \n",
       "...                          ...                                  ...   \n",
       "1493                        701+                                  1.8   \n",
       "1494                         NaN                                 26.3   \n",
       "1495                        701+                                  1.3   \n",
       "1496                        701+                                  1.0   \n",
       "1497                         NaN                                  1.7   \n",
       "\n",
       "     International Research Network Rank Employment Outcomes Score  \\\n",
       "0                               irn rank                 ger score   \n",
       "1                                     58                       100   \n",
       "2                                      7                       100   \n",
       "3                                      1                       100   \n",
       "4                                      5                       100   \n",
       "...                                  ...                       ...   \n",
       "1493                                701+                       5.9   \n",
       "1494                                 489                       NaN   \n",
       "1495                                701+                       8.5   \n",
       "1496                                701+                       7.3   \n",
       "1497                                701+                       NaN   \n",
       "\n",
       "     Employment Outcomes Rank Sustainability Score Sustainability Rank  \\\n",
       "0                    ger rank            SUS SCORE            SUS RANK   \n",
       "1                           4                 95.2                  51   \n",
       "2                           6                 97.3                 33=   \n",
       "3                           3                 97.8                 26=   \n",
       "4                           1                 96.7                  39   \n",
       "...                       ...                  ...                 ...   \n",
       "1493                     701+                  2.2                701+   \n",
       "1494                      NaN                  NaN                 NaN   \n",
       "1495                     701+                    1                701+   \n",
       "1496                     701+                  NaN                 NaN   \n",
       "1497                      NaN                  NaN                 NaN   \n",
       "\n",
       "      Overall SCORE  \n",
       "0     Overall Score  \n",
       "1             100.0  \n",
       "2              99.2  \n",
       "3              98.9  \n",
       "4              98.3  \n",
       "...             ...  \n",
       "1493              -  \n",
       "1494              -  \n",
       "1495              -  \n",
       "1496              -  \n",
       "1497              -  \n",
       "\n",
       "[1498 rows x 29 columns]"
      ]
     },
     "execution_count": 29,
     "metadata": {},
     "output_type": "execute_result"
    }
   ],
   "source": [
    "qs_data = pd.read_csv('2024 QS World University Rankings 1.1 (For qs.com).csv')\n",
    "qs_data"
   ]
  },
  {
   "cell_type": "code",
   "execution_count": 30,
   "id": "42231c6cce7da8c8",
   "metadata": {
    "ExecuteTime": {
     "end_time": "2023-11-05T09:34:29.090536700Z",
     "start_time": "2023-11-05T09:34:28.984901700Z"
    }
   },
   "outputs": [
    {
     "data": {
      "text/html": [
       "<div>\n",
       "<style scoped>\n",
       "    .dataframe tbody tr th:only-of-type {\n",
       "        vertical-align: middle;\n",
       "    }\n",
       "\n",
       "    .dataframe tbody tr th {\n",
       "        vertical-align: top;\n",
       "    }\n",
       "\n",
       "    .dataframe thead th {\n",
       "        text-align: right;\n",
       "    }\n",
       "</style>\n",
       "<table border=\"1\" class=\"dataframe\">\n",
       "  <thead>\n",
       "    <tr style=\"text-align: right;\">\n",
       "      <th></th>\n",
       "      <th>QS 2023</th>\n",
       "      <th>University</th>\n",
       "    </tr>\n",
       "  </thead>\n",
       "  <tbody>\n",
       "    <tr>\n",
       "      <th>1</th>\n",
       "      <td>1.0</td>\n",
       "      <td>Massachusetts Institute of Technology (MIT)</td>\n",
       "    </tr>\n",
       "    <tr>\n",
       "      <th>5</th>\n",
       "      <td>2.0</td>\n",
       "      <td>Stanford University</td>\n",
       "    </tr>\n",
       "    <tr>\n",
       "      <th>4</th>\n",
       "      <td>3.0</td>\n",
       "      <td>Harvard University</td>\n",
       "    </tr>\n",
       "    <tr>\n",
       "      <th>15</th>\n",
       "      <td>4.0</td>\n",
       "      <td>California Institute of Technology (Caltech)</td>\n",
       "    </tr>\n",
       "    <tr>\n",
       "      <th>11</th>\n",
       "      <td>5.0</td>\n",
       "      <td>University of Chicago</td>\n",
       "    </tr>\n",
       "    <tr>\n",
       "      <th>...</th>\n",
       "      <td>...</td>\n",
       "      <td>...</td>\n",
       "    </tr>\n",
       "    <tr>\n",
       "      <th>1415</th>\n",
       "      <td>NaN</td>\n",
       "      <td>California State University - Los Angeles</td>\n",
       "    </tr>\n",
       "    <tr>\n",
       "      <th>1416</th>\n",
       "      <td>NaN</td>\n",
       "      <td>California State University Long Beach</td>\n",
       "    </tr>\n",
       "    <tr>\n",
       "      <th>1420</th>\n",
       "      <td>NaN</td>\n",
       "      <td>Humboldt State University</td>\n",
       "    </tr>\n",
       "    <tr>\n",
       "      <th>1421</th>\n",
       "      <td>NaN</td>\n",
       "      <td>Illinois State University</td>\n",
       "    </tr>\n",
       "    <tr>\n",
       "      <th>1496</th>\n",
       "      <td>NaN</td>\n",
       "      <td>Western Washington University</td>\n",
       "    </tr>\n",
       "  </tbody>\n",
       "</table>\n",
       "<p>199 rows × 2 columns</p>\n",
       "</div>"
      ],
      "text/plain": [
       "      QS 2023                                    University\n",
       "1         1.0  Massachusetts Institute of Technology (MIT) \n",
       "5         2.0                           Stanford University\n",
       "4         3.0                            Harvard University\n",
       "15        4.0  California Institute of Technology (Caltech)\n",
       "11        5.0                         University of Chicago\n",
       "...       ...                                           ...\n",
       "1415      NaN     California State University - Los Angeles\n",
       "1416      NaN        California State University Long Beach\n",
       "1420      NaN                     Humboldt State University\n",
       "1421      NaN                     Illinois State University\n",
       "1496      NaN                 Western Washington University\n",
       "\n",
       "[199 rows x 2 columns]"
      ]
     },
     "execution_count": 30,
     "metadata": {},
     "output_type": "execute_result"
    }
   ],
   "source": [
    "# Filter rows containing US universities and sort them\n",
    "us_qs_data = qs_data.loc[qs_data['Country'] == 'United States']\n",
    "us_qs_data = us_qs_data.iloc[0:1375, :] # select the top 1375 US universities\n",
    "us_qs_data['2023 RANK'] = us_qs_data['2023 RANK'].str.replace(\"=\", \"\", regex=False) # remove the '=' sign\n",
    "us_qs_data['2023 RANK'] = pd.to_numeric(us_qs_data['2023 RANK'], errors='coerce') # convert to numeric\n",
    "us_qs_data['2023 RANK'] = us_qs_data['2023 RANK'].rank(method='min', ascending=True) # add ranking column\n",
    "\n",
    "# Select only the second and third columns from the sorted US universities data\n",
    "us_qs_data = us_qs_data.iloc[:, [1, 2]]\n",
    "us_qs_data = us_qs_data.sort_values(by='2023 RANK', ascending=True) # Sort the data by 2023 ranking\n",
    "us_qs_data = us_qs_data.rename(columns={'Institution Name': 'University','2023 RANK': 'QS 2023'}) # Change the column name \"Institution Name\" to \"University\"\n",
    "\n",
    "us_qs_data\n",
    "\n",
    "\n"
   ]
  },
  {
   "cell_type": "code",
   "execution_count": 31,
   "id": "b6861d82b877c603",
   "metadata": {
    "ExecuteTime": {
     "end_time": "2023-11-05T09:35:20.584106300Z",
     "start_time": "2023-11-05T09:35:20.383239700Z"
    }
   },
   "outputs": [
    {
     "data": {
      "text/html": [
       "<div>\n",
       "<style scoped>\n",
       "    .dataframe tbody tr th:only-of-type {\n",
       "        vertical-align: middle;\n",
       "    }\n",
       "\n",
       "    .dataframe tbody tr th {\n",
       "        vertical-align: top;\n",
       "    }\n",
       "\n",
       "    .dataframe thead th {\n",
       "        text-align: right;\n",
       "    }\n",
       "</style>\n",
       "<table border=\"1\" class=\"dataframe\">\n",
       "  <thead>\n",
       "    <tr style=\"text-align: right;\">\n",
       "      <th></th>\n",
       "      <th>QS 2023</th>\n",
       "      <th>University</th>\n",
       "    </tr>\n",
       "  </thead>\n",
       "  <tbody>\n",
       "    <tr>\n",
       "      <th>1</th>\n",
       "      <td>1.0</td>\n",
       "      <td>Massachusetts Institute of Technology</td>\n",
       "    </tr>\n",
       "    <tr>\n",
       "      <th>5</th>\n",
       "      <td>2.0</td>\n",
       "      <td>Stanford University</td>\n",
       "    </tr>\n",
       "    <tr>\n",
       "      <th>4</th>\n",
       "      <td>3.0</td>\n",
       "      <td>Harvard University</td>\n",
       "    </tr>\n",
       "    <tr>\n",
       "      <th>15</th>\n",
       "      <td>4.0</td>\n",
       "      <td>California Institute of Technology</td>\n",
       "    </tr>\n",
       "    <tr>\n",
       "      <th>11</th>\n",
       "      <td>5.0</td>\n",
       "      <td>University of Chicago</td>\n",
       "    </tr>\n",
       "  </tbody>\n",
       "</table>\n",
       "</div>"
      ],
      "text/plain": [
       "    QS 2023                             University\n",
       "1       1.0  Massachusetts Institute of Technology\n",
       "5       2.0                    Stanford University\n",
       "4       3.0                     Harvard University\n",
       "15      4.0     California Institute of Technology\n",
       "11      5.0                  University of Chicago"
      ]
     },
     "execution_count": 31,
     "metadata": {},
     "output_type": "execute_result"
    }
   ],
   "source": [
    "us_data_cleaned = us_data.iloc[:, [0, 3]]\n",
    "def updated_flexible_match(name, qs_dataframe):\n",
    "    # Special cases\n",
    "    special_cases = {\n",
    "        \"University of North Carolina, Chapel Hill\":\"University of North Carolina-Chapel Hill\",\n",
    "        \"University of California, Berkeley (UCB)\":\"University of California-Berkeley\",\n",
    "        \"University of California, Los Angeles (UCLA)\":\"University of California-Los Angeles\"\n",
    "    }\n",
    "    \n",
    "    # Check for special case matches\n",
    "    if name in special_cases:\n",
    "        match = qs_dataframe[qs_dataframe['University'] == special_cases[name]]\n",
    "        if not match.empty:\n",
    "            return match.iloc[0]['University']  # Return the matching institution name\n",
    "    \n",
    "    # Attempt direct match\n",
    "    direct_match = qs_dataframe[qs_dataframe['University'] == name]\n",
    "    if not direct_match.empty:\n",
    "        return direct_match.iloc[0]['University']  # Return the matching institution name\n",
    "    \n",
    "    # If direct match fails, try removing content inside parentheses and match again\n",
    "    name_without_parentheses = ' '.join(s for s in name.split() if not s.startswith('('))\n",
    "    match_without_parentheses = qs_dataframe[qs_dataframe['University'].str.contains(name_without_parentheses, regex=False, case=False, na=False)]\n",
    "    if not match_without_parentheses.empty:\n",
    "        return match_without_parentheses.iloc[0]['University']  # Return the matching institution name\n",
    "    \n",
    "    return name\n",
    "us_qs_data['University'] = us_qs_data['University'].apply(lambda x: updated_flexible_match(x, us_data))\n",
    "us_qs_data.head()"
   ]
  },
  {
   "cell_type": "code",
   "execution_count": 32,
   "id": "1b29c95959418346",
   "metadata": {
    "ExecuteTime": {
     "end_time": "2023-11-05T09:38:26.482033300Z",
     "start_time": "2023-11-05T09:38:26.435713100Z"
    }
   },
   "outputs": [
    {
     "data": {
      "text/html": [
       "<div>\n",
       "<style scoped>\n",
       "    .dataframe tbody tr th:only-of-type {\n",
       "        vertical-align: middle;\n",
       "    }\n",
       "\n",
       "    .dataframe tbody tr th {\n",
       "        vertical-align: top;\n",
       "    }\n",
       "\n",
       "    .dataframe thead th {\n",
       "        text-align: right;\n",
       "    }\n",
       "</style>\n",
       "<table border=\"1\" class=\"dataframe\">\n",
       "  <thead>\n",
       "    <tr style=\"text-align: right;\">\n",
       "      <th></th>\n",
       "      <th>University</th>\n",
       "      <th>US NEWS 2023</th>\n",
       "      <th>QS 2023</th>\n",
       "    </tr>\n",
       "  </thead>\n",
       "  <tbody>\n",
       "    <tr>\n",
       "      <th>0</th>\n",
       "      <td>Princeton University</td>\n",
       "      <td>1</td>\n",
       "      <td>7.0</td>\n",
       "    </tr>\n",
       "    <tr>\n",
       "      <th>1</th>\n",
       "      <td>Massachusetts Institute of Technology</td>\n",
       "      <td>2</td>\n",
       "      <td>1.0</td>\n",
       "    </tr>\n",
       "    <tr>\n",
       "      <th>2</th>\n",
       "      <td>Harvard University</td>\n",
       "      <td>3</td>\n",
       "      <td>3.0</td>\n",
       "    </tr>\n",
       "    <tr>\n",
       "      <th>3</th>\n",
       "      <td>Yale University</td>\n",
       "      <td>3</td>\n",
       "      <td>8.0</td>\n",
       "    </tr>\n",
       "    <tr>\n",
       "      <th>4</th>\n",
       "      <td>Stanford University</td>\n",
       "      <td>3</td>\n",
       "      <td>2.0</td>\n",
       "    </tr>\n",
       "  </tbody>\n",
       "</table>\n",
       "</div>"
      ],
      "text/plain": [
       "                              University  US NEWS 2023  QS 2023\n",
       "0                   Princeton University             1      7.0\n",
       "1  Massachusetts Institute of Technology             2      1.0\n",
       "2                     Harvard University             3      3.0\n",
       "3                        Yale University             3      8.0\n",
       "4                    Stanford University             3      2.0"
      ]
     },
     "execution_count": 32,
     "metadata": {},
     "output_type": "execute_result"
    }
   ],
   "source": [
    "combined_rank = pd.merge(us_data_cleaned, us_qs_data, on='University', how='left')\n",
    "# combined_rank.to_excel('combined_rank.xlsx', index=False)\n",
    "combined_rank = combined_rank.rename(columns={2023:'US NEWS 2023'})\n",
    "combined_rank = combined_rank.dropna(subset=['US NEWS 2023','QS 2023'])\n",
    "combined_rank.head()"
   ]
  },
  {
   "cell_type": "code",
   "execution_count": 33,
   "id": "962b8030",
   "metadata": {
    "ExecuteTime": {
     "end_time": "2023-11-05T09:39:04.611988200Z",
     "start_time": "2023-11-05T09:39:04.515366400Z"
    }
   },
   "outputs": [
    {
     "data": {
      "image/png": "[encoded data removed]",
      "text/plain": [
       "<Figure size 1000x800 with 1 Axes>"
      ]
     },
     "metadata": {},
     "output_type": "display_data"
    }
   ],
   "source": [
    "# Plotting\n",
    "plt.figure(figsize=(10, 8))\n",
    "plt.scatter(combined_rank['US NEWS 2023'], combined_rank['QS 2023'], alpha=0.5)\n",
    "\n",
    "# Add a line to indicate the perfect match\n",
    "max_rank = max(combined_rank['US NEWS 2023'].max(), combined_rank['QS 2023'].max())\n",
    "plt.plot([0, max_rank], [0, max_rank], 'r--')\n",
    "\n",
    "plt.ylim(0, 130)\n",
    "plt.xlim(0, 130)\n",
    "\n",
    "plt.title('Comparison of US News and QS Rankings (2023)')\n",
    "plt.xlabel('US News 2023 Rank')\n",
    "plt.ylabel('QS 2023 Rank')\n",
    "plt.gca().invert_xaxis() # Set US News rank 1 to be at the top\n",
    "plt.gca().invert_yaxis() # Set QS rank 1 to be at the top\n",
    "plt.grid(True)\n",
    "plt.show()"
   ]
  },
  {
   "cell_type": "markdown",
   "id": "6236ae19",
   "metadata": {},
   "source": [
    "### **5. Average Rank Changes and Categorical Variables**"
   ]
  },
  {
   "cell_type": "code",
   "execution_count": 34,
   "id": "bd30a7d0",
   "metadata": {},
   "outputs": [
    {
     "data": {
      "text/html": [
       "<div>\n",
       "<style scoped>\n",
       "    .dataframe tbody tr th:only-of-type {\n",
       "        vertical-align: middle;\n",
       "    }\n",
       "\n",
       "    .dataframe tbody tr th {\n",
       "        vertical-align: top;\n",
       "    }\n",
       "\n",
       "    .dataframe thead th {\n",
       "        text-align: right;\n",
       "    }\n",
       "</style>\n",
       "<table border=\"1\" class=\"dataframe\">\n",
       "  <thead>\n",
       "    <tr style=\"text-align: right;\">\n",
       "      <th></th>\n",
       "      <th>2024 RANK</th>\n",
       "      <th>2023 RANK</th>\n",
       "      <th>Institution Name</th>\n",
       "      <th>Country Code</th>\n",
       "      <th>Country</th>\n",
       "      <th>SIZE</th>\n",
       "      <th>FOCUS</th>\n",
       "      <th>RES.</th>\n",
       "      <th>AGE</th>\n",
       "      <th>STATUS</th>\n",
       "      <th>...</th>\n",
       "      <th>International Faculty Rank</th>\n",
       "      <th>International Students Score</th>\n",
       "      <th>International Students Rank</th>\n",
       "      <th>International Research Network Score</th>\n",
       "      <th>International Research Network Rank</th>\n",
       "      <th>Employment Outcomes Score</th>\n",
       "      <th>Employment Outcomes Rank</th>\n",
       "      <th>Sustainability Score</th>\n",
       "      <th>Sustainability Rank</th>\n",
       "      <th>Overall SCORE</th>\n",
       "    </tr>\n",
       "  </thead>\n",
       "  <tbody>\n",
       "    <tr>\n",
       "      <th>0</th>\n",
       "      <td>rank display</td>\n",
       "      <td>rank display2</td>\n",
       "      <td>institution</td>\n",
       "      <td>location code</td>\n",
       "      <td>location</td>\n",
       "      <td>size</td>\n",
       "      <td>focus</td>\n",
       "      <td>research</td>\n",
       "      <td>age band</td>\n",
       "      <td>status</td>\n",
       "      <td>...</td>\n",
       "      <td>ifr rank</td>\n",
       "      <td>isr score</td>\n",
       "      <td>isr rank</td>\n",
       "      <td>irn score</td>\n",
       "      <td>irn rank</td>\n",
       "      <td>ger score</td>\n",
       "      <td>ger rank</td>\n",
       "      <td>SUS SCORE</td>\n",
       "      <td>SUS RANK</td>\n",
       "      <td>Overall Score</td>\n",
       "    </tr>\n",
       "    <tr>\n",
       "      <th>1</th>\n",
       "      <td>1</td>\n",
       "      <td>1</td>\n",
       "      <td>Massachusetts Institute of Technology (MIT)</td>\n",
       "      <td>US</td>\n",
       "      <td>United States</td>\n",
       "      <td>M</td>\n",
       "      <td>CO</td>\n",
       "      <td>VH</td>\n",
       "      <td>5</td>\n",
       "      <td>B</td>\n",
       "      <td>...</td>\n",
       "      <td>56</td>\n",
       "      <td>88.2</td>\n",
       "      <td>128</td>\n",
       "      <td>94.3</td>\n",
       "      <td>58</td>\n",
       "      <td>100</td>\n",
       "      <td>4</td>\n",
       "      <td>95.2</td>\n",
       "      <td>51</td>\n",
       "      <td>100.0</td>\n",
       "    </tr>\n",
       "    <tr>\n",
       "      <th>2</th>\n",
       "      <td>2</td>\n",
       "      <td>2</td>\n",
       "      <td>University of Cambridge</td>\n",
       "      <td>UK</td>\n",
       "      <td>United Kingdom</td>\n",
       "      <td>L</td>\n",
       "      <td>FC</td>\n",
       "      <td>VH</td>\n",
       "      <td>5</td>\n",
       "      <td>A</td>\n",
       "      <td>...</td>\n",
       "      <td>64</td>\n",
       "      <td>95.8</td>\n",
       "      <td>85</td>\n",
       "      <td>99.9</td>\n",
       "      <td>7</td>\n",
       "      <td>100</td>\n",
       "      <td>6</td>\n",
       "      <td>97.3</td>\n",
       "      <td>33=</td>\n",
       "      <td>99.2</td>\n",
       "    </tr>\n",
       "    <tr>\n",
       "      <th>3</th>\n",
       "      <td>3</td>\n",
       "      <td>4</td>\n",
       "      <td>University of Oxford</td>\n",
       "      <td>UK</td>\n",
       "      <td>United Kingdom</td>\n",
       "      <td>L</td>\n",
       "      <td>FC</td>\n",
       "      <td>VH</td>\n",
       "      <td>5</td>\n",
       "      <td>A</td>\n",
       "      <td>...</td>\n",
       "      <td>110</td>\n",
       "      <td>98.2</td>\n",
       "      <td>60</td>\n",
       "      <td>100.0</td>\n",
       "      <td>1</td>\n",
       "      <td>100</td>\n",
       "      <td>3</td>\n",
       "      <td>97.8</td>\n",
       "      <td>26=</td>\n",
       "      <td>98.9</td>\n",
       "    </tr>\n",
       "    <tr>\n",
       "      <th>4</th>\n",
       "      <td>4</td>\n",
       "      <td>5</td>\n",
       "      <td>Harvard University</td>\n",
       "      <td>US</td>\n",
       "      <td>United States</td>\n",
       "      <td>L</td>\n",
       "      <td>FC</td>\n",
       "      <td>VH</td>\n",
       "      <td>5</td>\n",
       "      <td>B</td>\n",
       "      <td>...</td>\n",
       "      <td>210</td>\n",
       "      <td>66.8</td>\n",
       "      <td>223</td>\n",
       "      <td>100.0</td>\n",
       "      <td>5</td>\n",
       "      <td>100</td>\n",
       "      <td>1</td>\n",
       "      <td>96.7</td>\n",
       "      <td>39</td>\n",
       "      <td>98.3</td>\n",
       "    </tr>\n",
       "  </tbody>\n",
       "</table>\n",
       "<p>5 rows × 29 columns</p>\n",
       "</div>"
      ],
      "text/plain": [
       "      2024 RANK      2023 RANK                              Institution Name  \\\n",
       "0  rank display  rank display2                                   institution   \n",
       "1             1              1  Massachusetts Institute of Technology (MIT)    \n",
       "2             2              2                       University of Cambridge   \n",
       "3             3              4                          University of Oxford   \n",
       "4             4              5                            Harvard University   \n",
       "\n",
       "    Country Code         Country  SIZE  FOCUS      RES.       AGE  STATUS  \\\n",
       "0  location code        location  size  focus  research  age band  status   \n",
       "1             US   United States     M     CO        VH         5       B   \n",
       "2             UK  United Kingdom     L     FC        VH         5       A   \n",
       "3             UK  United Kingdom     L     FC        VH         5       A   \n",
       "4             US   United States     L     FC        VH         5       B   \n",
       "\n",
       "   ... International Faculty Rank International Students Score  \\\n",
       "0  ...                   ifr rank                    isr score   \n",
       "1  ...                         56                         88.2   \n",
       "2  ...                         64                         95.8   \n",
       "3  ...                        110                         98.2   \n",
       "4  ...                        210                         66.8   \n",
       "\n",
       "  International Students Rank International Research Network Score  \\\n",
       "0                    isr rank                            irn score   \n",
       "1                         128                                 94.3   \n",
       "2                          85                                 99.9   \n",
       "3                          60                                100.0   \n",
       "4                         223                                100.0   \n",
       "\n",
       "  International Research Network Rank Employment Outcomes Score  \\\n",
       "0                            irn rank                 ger score   \n",
       "1                                  58                       100   \n",
       "2                                   7                       100   \n",
       "3                                   1                       100   \n",
       "4                                   5                       100   \n",
       "\n",
       "  Employment Outcomes Rank Sustainability Score Sustainability Rank  \\\n",
       "0                 ger rank            SUS SCORE            SUS RANK   \n",
       "1                        4                 95.2                  51   \n",
       "2                        6                 97.3                 33=   \n",
       "3                        3                 97.8                 26=   \n",
       "4                        1                 96.7                  39   \n",
       "\n",
       "   Overall SCORE  \n",
       "0  Overall Score  \n",
       "1          100.0  \n",
       "2           99.2  \n",
       "3           98.9  \n",
       "4           98.3  \n",
       "\n",
       "[5 rows x 29 columns]"
      ]
     },
     "execution_count": 34,
     "metadata": {},
     "output_type": "execute_result"
    }
   ],
   "source": [
    "qs_data.head()"
   ]
  },
  {
   "cell_type": "code",
   "execution_count": 35,
   "id": "31debab5",
   "metadata": {},
   "outputs": [],
   "source": [
    "# Select non-numeric columns\n",
    "categorical_cols = ['Institution Name', 'Country', 'SIZE', 'FOCUS', 'RES.']\n",
    "\n",
    "#Convert numbers to integers\n",
    "def convert_to_int(qs_data):\n",
    "    for col in qs_data.columns:\n",
    "        if (col not in (categorical_cols)):\n",
    "            qs_data[col] = qs_data[col].str.extract('(\\d+)').astype(int)\n",
    "    return qs_data\n",
    "\n",
    "def clean_qs_data(qs_data):\n",
    "    \n",
    "    # drop first row of data\n",
    "    qs_data.drop(0, axis=0, inplace=True)\n",
    "    \n",
    "    # drop any NaN vaules and NaN Overall SCORE\n",
    "    qs_data = qs_data.dropna()\n",
    "    qs_data = qs_data.loc[qs_data['Overall SCORE'] != '-']\n",
    "    \n",
    "    # concat rank, categorical, and score columns \n",
    "    rank_qs_data = qs_data[['2024 RANK', '2023 RANK']] # select rank columns\n",
    "    cat_qs_data = qs_data[['Institution Name', 'Country', 'SIZE', 'FOCUS', 'RES.', 'AGE']] # select categorical columns\n",
    "    score_cols = [col for col in qs_data.columns if 'score' in col.lower()] # get all score columns without distinguishing between upper and lower case\n",
    "    score_qs_data = qs_data[score_cols] # select score columns\n",
    "    qs_data = pd.concat([rank_qs_data, cat_qs_data, score_qs_data], axis=1) # concat all columns to create new dataframe\n",
    "    \n",
    "    # convert object types to int types \n",
    "    qs_data = convert_to_int(qs_data)\n",
    "    \n",
    "    # create rank change column\n",
    "    qs_data['Rank Change'] = qs_data['2023 RANK'] - qs_data['2024 RANK']\n",
    "    \n",
    "    \n",
    "    return qs_data"
   ]
  },
  {
   "cell_type": "code",
   "execution_count": 36,
   "id": "6545efb4",
   "metadata": {},
   "outputs": [
    {
     "data": {
      "text/html": [
       "<div>\n",
       "<style scoped>\n",
       "    .dataframe tbody tr th:only-of-type {\n",
       "        vertical-align: middle;\n",
       "    }\n",
       "\n",
       "    .dataframe tbody tr th {\n",
       "        vertical-align: top;\n",
       "    }\n",
       "\n",
       "    .dataframe thead th {\n",
       "        text-align: right;\n",
       "    }\n",
       "</style>\n",
       "<table border=\"1\" class=\"dataframe\">\n",
       "  <thead>\n",
       "    <tr style=\"text-align: right;\">\n",
       "      <th></th>\n",
       "      <th>2024 RANK</th>\n",
       "      <th>2023 RANK</th>\n",
       "      <th>Institution Name</th>\n",
       "      <th>Country</th>\n",
       "      <th>SIZE</th>\n",
       "      <th>FOCUS</th>\n",
       "      <th>RES.</th>\n",
       "      <th>AGE</th>\n",
       "      <th>Academic Reputation Score</th>\n",
       "      <th>Employer Reputation Score</th>\n",
       "      <th>Faculty Student Score</th>\n",
       "      <th>Citations per Faculty Score</th>\n",
       "      <th>International Faculty Score</th>\n",
       "      <th>International Students Score</th>\n",
       "      <th>International Research Network Score</th>\n",
       "      <th>Employment Outcomes Score</th>\n",
       "      <th>Sustainability Score</th>\n",
       "      <th>Overall SCORE</th>\n",
       "      <th>Rank Change</th>\n",
       "    </tr>\n",
       "  </thead>\n",
       "  <tbody>\n",
       "    <tr>\n",
       "      <th>1</th>\n",
       "      <td>1</td>\n",
       "      <td>1</td>\n",
       "      <td>Massachusetts Institute of Technology (MIT)</td>\n",
       "      <td>United States</td>\n",
       "      <td>M</td>\n",
       "      <td>CO</td>\n",
       "      <td>VH</td>\n",
       "      <td>5</td>\n",
       "      <td>100</td>\n",
       "      <td>100</td>\n",
       "      <td>100</td>\n",
       "      <td>100</td>\n",
       "      <td>100</td>\n",
       "      <td>88</td>\n",
       "      <td>94</td>\n",
       "      <td>100</td>\n",
       "      <td>95</td>\n",
       "      <td>100</td>\n",
       "      <td>0</td>\n",
       "    </tr>\n",
       "    <tr>\n",
       "      <th>2</th>\n",
       "      <td>2</td>\n",
       "      <td>2</td>\n",
       "      <td>University of Cambridge</td>\n",
       "      <td>United Kingdom</td>\n",
       "      <td>L</td>\n",
       "      <td>FC</td>\n",
       "      <td>VH</td>\n",
       "      <td>5</td>\n",
       "      <td>100</td>\n",
       "      <td>100</td>\n",
       "      <td>100</td>\n",
       "      <td>92</td>\n",
       "      <td>100</td>\n",
       "      <td>95</td>\n",
       "      <td>99</td>\n",
       "      <td>100</td>\n",
       "      <td>97</td>\n",
       "      <td>99</td>\n",
       "      <td>0</td>\n",
       "    </tr>\n",
       "    <tr>\n",
       "      <th>3</th>\n",
       "      <td>3</td>\n",
       "      <td>4</td>\n",
       "      <td>University of Oxford</td>\n",
       "      <td>United Kingdom</td>\n",
       "      <td>L</td>\n",
       "      <td>FC</td>\n",
       "      <td>VH</td>\n",
       "      <td>5</td>\n",
       "      <td>100</td>\n",
       "      <td>100</td>\n",
       "      <td>100</td>\n",
       "      <td>90</td>\n",
       "      <td>98</td>\n",
       "      <td>98</td>\n",
       "      <td>100</td>\n",
       "      <td>100</td>\n",
       "      <td>97</td>\n",
       "      <td>98</td>\n",
       "      <td>1</td>\n",
       "    </tr>\n",
       "    <tr>\n",
       "      <th>4</th>\n",
       "      <td>4</td>\n",
       "      <td>5</td>\n",
       "      <td>Harvard University</td>\n",
       "      <td>United States</td>\n",
       "      <td>L</td>\n",
       "      <td>FC</td>\n",
       "      <td>VH</td>\n",
       "      <td>5</td>\n",
       "      <td>100</td>\n",
       "      <td>100</td>\n",
       "      <td>98</td>\n",
       "      <td>100</td>\n",
       "      <td>84</td>\n",
       "      <td>66</td>\n",
       "      <td>100</td>\n",
       "      <td>100</td>\n",
       "      <td>96</td>\n",
       "      <td>98</td>\n",
       "      <td>1</td>\n",
       "    </tr>\n",
       "    <tr>\n",
       "      <th>5</th>\n",
       "      <td>5</td>\n",
       "      <td>3</td>\n",
       "      <td>Stanford University</td>\n",
       "      <td>United States</td>\n",
       "      <td>L</td>\n",
       "      <td>FC</td>\n",
       "      <td>VH</td>\n",
       "      <td>5</td>\n",
       "      <td>100</td>\n",
       "      <td>100</td>\n",
       "      <td>100</td>\n",
       "      <td>99</td>\n",
       "      <td>99</td>\n",
       "      <td>51</td>\n",
       "      <td>95</td>\n",
       "      <td>100</td>\n",
       "      <td>94</td>\n",
       "      <td>98</td>\n",
       "      <td>-2</td>\n",
       "    </tr>\n",
       "  </tbody>\n",
       "</table>\n",
       "</div>"
      ],
      "text/plain": [
       "   2024 RANK  2023 RANK                              Institution Name  \\\n",
       "1          1          1  Massachusetts Institute of Technology (MIT)    \n",
       "2          2          2                       University of Cambridge   \n",
       "3          3          4                          University of Oxford   \n",
       "4          4          5                            Harvard University   \n",
       "5          5          3                           Stanford University   \n",
       "\n",
       "          Country SIZE FOCUS RES.  AGE  Academic Reputation Score  \\\n",
       "1   United States    M    CO   VH    5                        100   \n",
       "2  United Kingdom    L    FC   VH    5                        100   \n",
       "3  United Kingdom    L    FC   VH    5                        100   \n",
       "4   United States    L    FC   VH    5                        100   \n",
       "5   United States    L    FC   VH    5                        100   \n",
       "\n",
       "   Employer Reputation Score  Faculty Student Score  \\\n",
       "1                        100                    100   \n",
       "2                        100                    100   \n",
       "3                        100                    100   \n",
       "4                        100                     98   \n",
       "5                        100                    100   \n",
       "\n",
       "   Citations per Faculty Score  International Faculty Score  \\\n",
       "1                          100                          100   \n",
       "2                           92                          100   \n",
       "3                           90                           98   \n",
       "4                          100                           84   \n",
       "5                           99                           99   \n",
       "\n",
       "   International Students Score  International Research Network Score  \\\n",
       "1                            88                                    94   \n",
       "2                            95                                    99   \n",
       "3                            98                                   100   \n",
       "4                            66                                   100   \n",
       "5                            51                                    95   \n",
       "\n",
       "   Employment Outcomes Score  Sustainability Score  Overall SCORE  Rank Change  \n",
       "1                        100                    95            100            0  \n",
       "2                        100                    97             99            0  \n",
       "3                        100                    97             98            1  \n",
       "4                        100                    96             98            1  \n",
       "5                        100                    94             98           -2  "
      ]
     },
     "execution_count": 36,
     "metadata": {},
     "output_type": "execute_result"
    }
   ],
   "source": [
    "qs_data = clean_qs_data(qs_data)\n",
    "qs_data.head()"
   ]
  },
  {
   "cell_type": "code",
   "execution_count": 37,
   "id": "70f2a1ea",
   "metadata": {},
   "outputs": [
    {
     "data": {
      "application/vnd.plotly.v1+json": {
       "config": {
        "plotlyServerURL": "https://plot.ly"
       },
       "data": [
        {
         "marker": {
          "color": [
           "rgb(247,252,245)",
           "rgb(229,245,224)",
           "rgb(199,233,192)",
           "rgb(161,217,155)",
           "rgb(116,196,118)",
           "rgb(65,171,93)",
           "rgb(35,139,69)",
           "rgb(0,109,44)",
           "rgb(0,68,27)"
          ],
          "line": {
           "color": "black",
           "width": 1.5
          }
         },
         "name": "Size",
         "text": [
          "-49",
          "-8",
          "11",
          "31"
         ],
         "textposition": "inside",
         "type": "bar",
         "x": [
          "< 5,000",
          ">= 5,000",
          ">= 12,000",
          "> 30,000"
         ],
         "xaxis": "x",
         "y": [
          -48.64,
          -7.531914893617022,
          11.400735294117647,
          31.426136363636363
         ],
         "yaxis": "y"
        },
        {
         "marker": {
          "color": [
           "rgb(255,245,240)",
           "rgb(254,224,210)",
           "rgb(252,187,161)",
           "rgb(252,146,114)",
           "rgb(251,106,74)",
           "rgb(239,59,44)",
           "rgb(203,24,29)",
           "rgb(165,15,21)",
           "rgb(103,0,13)"
          ],
          "line": {
           "color": "black",
           "width": 1.5
          }
         },
         "name": "Focus",
         "text": [
          "-19",
          "11",
          "11",
          "31"
         ],
         "textposition": "inside",
         "type": "bar",
         "x": [
          "Focused",
          "Fully Comp.",
          "Specialist",
          "Comprehensive"
         ],
         "xaxis": "x2",
         "y": [
          -19.289156626506024,
          10.711246200607903,
          11,
          31
         ],
         "yaxis": "y2"
        },
        {
         "marker": {
          "color": [
           "rgb(255,255,204)",
           "rgb(255,237,160)",
           "rgb(254,217,118)",
           "rgb(254,178,76)",
           "rgb(253,141,60)",
           "rgb(252,78,42)",
           "rgb(227,26,28)",
           "rgb(189,0,38)",
           "rgb(128,0,38)"
          ],
          "line": {
           "color": "black",
           "width": 1.5
          }
         },
         "name": "Research",
         "text": [
          "-81",
          "12",
          "14"
         ],
         "textposition": "inside",
         "type": "bar",
         "x": [
          "Medium",
          "Very High",
          "High"
         ],
         "xaxis": "x3",
         "y": [
          -81,
          12.178502879078694,
          14.093023255813954
         ],
         "yaxis": "y3"
        },
        {
         "marker": {
          "color": [
           "rgb(247,251,255)",
           "rgb(222,235,247)",
           "rgb(198,219,239)",
           "rgb(158,202,225)",
           "rgb(107,174,214)",
           "rgb(66,146,198)",
           "rgb(33,113,181)",
           "rgb(8,81,156)",
           "rgb(8,48,107)"
          ],
          "line": {
           "color": "black",
           "width": 1.5
          }
         },
         "name": "Age",
         "text": [
          "-2",
          "1",
          "9",
          "12",
          "21"
         ],
         "textposition": "inside",
         "type": "bar",
         "x": [
          "10-24",
          "< 10",
          "50-99",
          ">= 100",
          "25-49"
         ],
         "xaxis": "x4",
         "y": [
          -2,
          1.25,
          8.937142857142858,
          12.055944055944057,
          21.234567901234566
         ],
         "yaxis": "y4"
        }
       ],
       "layout": {
        "annotations": [
         {
          "font": {
           "size": 16
          },
          "showarrow": false,
          "text": "Average Rank Change by College Size",
          "x": 0.2125,
          "xanchor": "center",
          "xref": "paper",
          "y": 1,
          "yanchor": "bottom",
          "yref": "paper"
         },
         {
          "font": {
           "size": 16
          },
          "showarrow": false,
          "text": "Average Rank Change by College Focus",
          "x": 0.7875,
          "xanchor": "center",
          "xref": "paper",
          "y": 1,
          "yanchor": "bottom",
          "yref": "paper"
         },
         {
          "font": {
           "size": 16
          },
          "showarrow": false,
          "text": "Average Rank Change by College Research Intensity",
          "x": 0.2125,
          "xanchor": "center",
          "xref": "paper",
          "y": 0.425,
          "yanchor": "bottom",
          "yref": "paper"
         },
         {
          "font": {
           "size": 16
          },
          "showarrow": false,
          "text": "Average Rank Change by College Age",
          "x": 0.7875,
          "xanchor": "center",
          "xref": "paper",
          "y": 0.425,
          "yanchor": "bottom",
          "yref": "paper"
         }
        ],
        "height": 800,
        "margin": {
         "b": 50,
         "l": 50,
         "r": 50,
         "t": 100
        },
        "showlegend": false,
        "template": {
         "data": {
          "bar": [
           {
            "error_x": {
             "color": "#2a3f5f"
            },
            "error_y": {
             "color": "#2a3f5f"
            },
            "marker": {
             "line": {
              "color": "white",
              "width": 0.5
             },
             "pattern": {
              "fillmode": "overlay",
              "size": 10,
              "solidity": 0.2
             }
            },
            "type": "bar"
           }
          ],
          "barpolar": [
           {
            "marker": {
             "line": {
              "color": "white",
              "width": 0.5
             },
             "pattern": {
              "fillmode": "overlay",
              "size": 10,
              "solidity": 0.2
             }
            },
            "type": "barpolar"
           }
          ],
          "carpet": [
           {
            "aaxis": {
             "endlinecolor": "#2a3f5f",
             "gridcolor": "#C8D4E3",
             "linecolor": "#C8D4E3",
             "minorgridcolor": "#C8D4E3",
             "startlinecolor": "#2a3f5f"
            },
            "baxis": {
             "endlinecolor": "#2a3f5f",
             "gridcolor": "#C8D4E3",
             "linecolor": "#C8D4E3",
             "minorgridcolor": "#C8D4E3",
             "startlinecolor": "#2a3f5f"
            },
            "type": "carpet"
           }
          ],
          "choropleth": [
           {
            "colorbar": {
             "outlinewidth": 0,
             "ticks": ""
            },
            "type": "choropleth"
           }
          ],
          "contour": [
           {
            "colorbar": {
             "outlinewidth": 0,
             "ticks": ""
            },
            "colorscale": [
             [
              0,
              "#0d0887"
             ],
             [
              0.1111111111111111,
              "#46039f"
             ],
             [
              0.2222222222222222,
              "#7201a8"
             ],
             [
              0.3333333333333333,
              "#9c179e"
             ],
             [
              0.4444444444444444,
              "#bd3786"
             ],
             [
              0.5555555555555556,
              "#d8576b"
             ],
             [
              0.6666666666666666,
              "#ed7953"
             ],
             [
              0.7777777777777778,
              "#fb9f3a"
             ],
             [
              0.8888888888888888,
              "#fdca26"
             ],
             [
              1,
              "#f0f921"
             ]
            ],
            "type": "contour"
           }
          ],
          "contourcarpet": [
           {
            "colorbar": {
             "outlinewidth": 0,
             "ticks": ""
            },
            "type": "contourcarpet"
           }
          ],
          "heatmap": [
           {
            "colorbar": {
             "outlinewidth": 0,
             "ticks": ""
            },
            "colorscale": [
             [
              0,
              "#0d0887"
             ],
             [
              0.1111111111111111,
              "#46039f"
             ],
             [
              0.2222222222222222,
              "#7201a8"
             ],
             [
              0.3333333333333333,
              "#9c179e"
             ],
             [
              0.4444444444444444,
              "#bd3786"
             ],
             [
              0.5555555555555556,
              "#d8576b"
             ],
             [
              0.6666666666666666,
              "#ed7953"
             ],
             [
              0.7777777777777778,
              "#fb9f3a"
             ],
             [
              0.8888888888888888,
              "#fdca26"
             ],
             [
              1,
              "#f0f921"
             ]
            ],
            "type": "heatmap"
           }
          ],
          "heatmapgl": [
           {
            "colorbar": {
             "outlinewidth": 0,
             "ticks": ""
            },
            "colorscale": [
             [
              0,
              "#0d0887"
             ],
             [
              0.1111111111111111,
              "#46039f"
             ],
             [
              0.2222222222222222,
              "#7201a8"
             ],
             [
              0.3333333333333333,
              "#9c179e"
             ],
             [
              0.4444444444444444,
              "#bd3786"
             ],
             [
              0.5555555555555556,
              "#d8576b"
             ],
             [
              0.6666666666666666,
              "#ed7953"
             ],
             [
              0.7777777777777778,
              "#fb9f3a"
             ],
             [
              0.8888888888888888,
              "#fdca26"
             ],
             [
              1,
              "#f0f921"
             ]
            ],
            "type": "heatmapgl"
           }
          ],
          "histogram": [
           {
            "marker": {
             "pattern": {
              "fillmode": "overlay",
              "size": 10,
              "solidity": 0.2
             }
            },
            "type": "histogram"
           }
          ],
          "histogram2d": [
           {
            "colorbar": {
             "outlinewidth": 0,
             "ticks": ""
            },
            "colorscale": [
             [
              0,
              "#0d0887"
             ],
             [
              0.1111111111111111,
              "#46039f"
             ],
             [
              0.2222222222222222,
              "#7201a8"
             ],
             [
              0.3333333333333333,
              "#9c179e"
             ],
             [
              0.4444444444444444,
              "#bd3786"
             ],
             [
              0.5555555555555556,
              "#d8576b"
             ],
             [
              0.6666666666666666,
              "#ed7953"
             ],
             [
              0.7777777777777778,
              "#fb9f3a"
             ],
             [
              0.8888888888888888,
              "#fdca26"
             ],
             [
              1,
              "#f0f921"
             ]
            ],
            "type": "histogram2d"
           }
          ],
          "histogram2dcontour": [
           {
            "colorbar": {
             "outlinewidth": 0,
             "ticks": ""
            },
            "colorscale": [
             [
              0,
              "#0d0887"
             ],
             [
              0.1111111111111111,
              "#46039f"
             ],
             [
              0.2222222222222222,
              "#7201a8"
             ],
             [
              0.3333333333333333,
              "#9c179e"
             ],
             [
              0.4444444444444444,
              "#bd3786"
             ],
             [
              0.5555555555555556,
              "#d8576b"
             ],
             [
              0.6666666666666666,
              "#ed7953"
             ],
             [
              0.7777777777777778,
              "#fb9f3a"
             ],
             [
              0.8888888888888888,
              "#fdca26"
             ],
             [
              1,
              "#f0f921"
             ]
            ],
            "type": "histogram2dcontour"
           }
          ],
          "mesh3d": [
           {
            "colorbar": {
             "outlinewidth": 0,
             "ticks": ""
            },
            "type": "mesh3d"
           }
          ],
          "parcoords": [
           {
            "line": {
             "colorbar": {
              "outlinewidth": 0,
              "ticks": ""
             }
            },
            "type": "parcoords"
           }
          ],
          "pie": [
           {
            "automargin": true,
            "type": "pie"
           }
          ],
          "scatter": [
           {
            "fillpattern": {
             "fillmode": "overlay",
             "size": 10,
             "solidity": 0.2
            },
            "type": "scatter"
           }
          ],
          "scatter3d": [
           {
            "line": {
             "colorbar": {
              "outlinewidth": 0,
              "ticks": ""
             }
            },
            "marker": {
             "colorbar": {
              "outlinewidth": 0,
              "ticks": ""
             }
            },
            "type": "scatter3d"
           }
          ],
          "scattercarpet": [
           {
            "marker": {
             "colorbar": {
              "outlinewidth": 0,
              "ticks": ""
             }
            },
            "type": "scattercarpet"
           }
          ],
          "scattergeo": [
           {
            "marker": {
             "colorbar": {
              "outlinewidth": 0,
              "ticks": ""
             }
            },
            "type": "scattergeo"
           }
          ],
          "scattergl": [
           {
            "marker": {
             "colorbar": {
              "outlinewidth": 0,
              "ticks": ""
             }
            },
            "type": "scattergl"
           }
          ],
          "scattermapbox": [
           {
            "marker": {
             "colorbar": {
              "outlinewidth": 0,
              "ticks": ""
             }
            },
            "type": "scattermapbox"
           }
          ],
          "scatterpolar": [
           {
            "marker": {
             "colorbar": {
              "outlinewidth": 0,
              "ticks": ""
             }
            },
            "type": "scatterpolar"
           }
          ],
          "scatterpolargl": [
           {
            "marker": {
             "colorbar": {
              "outlinewidth": 0,
              "ticks": ""
             }
            },
            "type": "scatterpolargl"
           }
          ],
          "scatterternary": [
           {
            "marker": {
             "colorbar": {
              "outlinewidth": 0,
              "ticks": ""
             }
            },
            "type": "scatterternary"
           }
          ],
          "surface": [
           {
            "colorbar": {
             "outlinewidth": 0,
             "ticks": ""
            },
            "colorscale": [
             [
              0,
              "#0d0887"
             ],
             [
              0.1111111111111111,
              "#46039f"
             ],
             [
              0.2222222222222222,
              "#7201a8"
             ],
             [
              0.3333333333333333,
              "#9c179e"
             ],
             [
              0.4444444444444444,
              "#bd3786"
             ],
             [
              0.5555555555555556,
              "#d8576b"
             ],
             [
              0.6666666666666666,
              "#ed7953"
             ],
             [
              0.7777777777777778,
              "#fb9f3a"
             ],
             [
              0.8888888888888888,
              "#fdca26"
             ],
             [
              1,
              "#f0f921"
             ]
            ],
            "type": "surface"
           }
          ],
          "table": [
           {
            "cells": {
             "fill": {
              "color": "#EBF0F8"
             },
             "line": {
              "color": "white"
             }
            },
            "header": {
             "fill": {
              "color": "#C8D4E3"
             },
             "line": {
              "color": "white"
             }
            },
            "type": "table"
           }
          ]
         },
         "layout": {
          "annotationdefaults": {
           "arrowcolor": "#2a3f5f",
           "arrowhead": 0,
           "arrowwidth": 1
          },
          "autotypenumbers": "strict",
          "coloraxis": {
           "colorbar": {
            "outlinewidth": 0,
            "ticks": ""
           }
          },
          "colorscale": {
           "diverging": [
            [
             0,
             "#8e0152"
            ],
            [
             0.1,
             "#c51b7d"
            ],
            [
             0.2,
             "#de77ae"
            ],
            [
             0.3,
             "#f1b6da"
            ],
            [
             0.4,
             "#fde0ef"
            ],
            [
             0.5,
             "#f7f7f7"
            ],
            [
             0.6,
             "#e6f5d0"
            ],
            [
             0.7,
             "#b8e186"
            ],
            [
             0.8,
             "#7fbc41"
            ],
            [
             0.9,
             "#4d9221"
            ],
            [
             1,
             "#276419"
            ]
           ],
           "sequential": [
            [
             0,
             "#0d0887"
            ],
            [
             0.1111111111111111,
             "#46039f"
            ],
            [
             0.2222222222222222,
             "#7201a8"
            ],
            [
             0.3333333333333333,
             "#9c179e"
            ],
            [
             0.4444444444444444,
             "#bd3786"
            ],
            [
             0.5555555555555556,
             "#d8576b"
            ],
            [
             0.6666666666666666,
             "#ed7953"
            ],
            [
             0.7777777777777778,
             "#fb9f3a"
            ],
            [
             0.8888888888888888,
             "#fdca26"
            ],
            [
             1,
             "#f0f921"
            ]
           ],
           "sequentialminus": [
            [
             0,
             "#0d0887"
            ],
            [
             0.1111111111111111,
             "#46039f"
            ],
            [
             0.2222222222222222,
             "#7201a8"
            ],
            [
             0.3333333333333333,
             "#9c179e"
            ],
            [
             0.4444444444444444,
             "#bd3786"
            ],
            [
             0.5555555555555556,
             "#d8576b"
            ],
            [
             0.6666666666666666,
             "#ed7953"
            ],
            [
             0.7777777777777778,
             "#fb9f3a"
            ],
            [
             0.8888888888888888,
             "#fdca26"
            ],
            [
             1,
             "#f0f921"
            ]
           ]
          },
          "colorway": [
           "#636efa",
           "#EF553B",
           "#00cc96",
           "#ab63fa",
           "#FFA15A",
           "#19d3f3",
           "#FF6692",
           "#B6E880",
           "#FF97FF",
           "#FECB52"
          ],
          "font": {
           "color": "#2a3f5f"
          },
          "geo": {
           "bgcolor": "white",
           "lakecolor": "white",
           "landcolor": "white",
           "showlakes": true,
           "showland": true,
           "subunitcolor": "#C8D4E3"
          },
          "hoverlabel": {
           "align": "left"
          },
          "hovermode": "closest",
          "mapbox": {
           "style": "light"
          },
          "paper_bgcolor": "white",
          "plot_bgcolor": "white",
          "polar": {
           "angularaxis": {
            "gridcolor": "#EBF0F8",
            "linecolor": "#EBF0F8",
            "ticks": ""
           },
           "bgcolor": "white",
           "radialaxis": {
            "gridcolor": "#EBF0F8",
            "linecolor": "#EBF0F8",
            "ticks": ""
           }
          },
          "scene": {
           "xaxis": {
            "backgroundcolor": "white",
            "gridcolor": "#DFE8F3",
            "gridwidth": 2,
            "linecolor": "#EBF0F8",
            "showbackground": true,
            "ticks": "",
            "zerolinecolor": "#EBF0F8"
           },
           "yaxis": {
            "backgroundcolor": "white",
            "gridcolor": "#DFE8F3",
            "gridwidth": 2,
            "linecolor": "#EBF0F8",
            "showbackground": true,
            "ticks": "",
            "zerolinecolor": "#EBF0F8"
           },
           "zaxis": {
            "backgroundcolor": "white",
            "gridcolor": "#DFE8F3",
            "gridwidth": 2,
            "linecolor": "#EBF0F8",
            "showbackground": true,
            "ticks": "",
            "zerolinecolor": "#EBF0F8"
           }
          },
          "shapedefaults": {
           "line": {
            "color": "#2a3f5f"
           }
          },
          "ternary": {
           "aaxis": {
            "gridcolor": "#DFE8F3",
            "linecolor": "#A2B1C6",
            "ticks": ""
           },
           "baxis": {
            "gridcolor": "#DFE8F3",
            "linecolor": "#A2B1C6",
            "ticks": ""
           },
           "bgcolor": "white",
           "caxis": {
            "gridcolor": "#DFE8F3",
            "linecolor": "#A2B1C6",
            "ticks": ""
           }
          },
          "title": {
           "x": 0.05
          },
          "xaxis": {
           "automargin": true,
           "gridcolor": "#EBF0F8",
           "linecolor": "#EBF0F8",
           "ticks": "",
           "title": {
            "standoff": 15
           },
           "zerolinecolor": "#EBF0F8",
           "zerolinewidth": 2
          },
          "yaxis": {
           "automargin": true,
           "gridcolor": "#EBF0F8",
           "linecolor": "#EBF0F8",
           "ticks": "",
           "title": {
            "standoff": 15
           },
           "zerolinecolor": "#EBF0F8",
           "zerolinewidth": 2
          }
         }
        },
        "title": {
         "text": "Average Rank Change by Categories: College Size, Focus, Research Intensity, and Age"
        },
        "width": 1000,
        "xaxis": {
         "anchor": "y",
         "domain": [
          0,
          0.425
         ]
        },
        "xaxis2": {
         "anchor": "y2",
         "domain": [
          0.575,
          1
         ]
        },
        "xaxis3": {
         "anchor": "y3",
         "domain": [
          0,
          0.425
         ]
        },
        "xaxis4": {
         "anchor": "y4",
         "domain": [
          0.575,
          1
         ]
        },
        "yaxis": {
         "anchor": "x",
         "domain": [
          0.575,
          1
         ]
        },
        "yaxis2": {
         "anchor": "x2",
         "domain": [
          0.575,
          1
         ]
        },
        "yaxis3": {
         "anchor": "x3",
         "domain": [
          0,
          0.425
         ]
        },
        "yaxis4": {
         "anchor": "x4",
         "domain": [
          0,
          0.425
         ]
        }
       }
      }
     },
     "metadata": {},
     "output_type": "display_data"
    }
   ],
   "source": [
    "# Plotting 4 figures in one chart\n",
    "row_n = 2\n",
    "col_n = 2 \n",
    "\n",
    "# Add subtitles for each subplot\n",
    "subplot_titles = (\n",
    "    'Average Rank Change by College Size',\n",
    "    'Average Rank Change by College Focus',\n",
    "    'Average Rank Change by College Research Intensity',\n",
    "    'Average Rank Change by College Age'\n",
    ")\n",
    "\n",
    "# Add the subplot_titles parameter to the make_subplots function call\n",
    "fig = make_subplots(\n",
    "    rows=row_n, \n",
    "    cols=col_n, \n",
    "    subplot_titles=subplot_titles, # Add the subtitles \n",
    "    vertical_spacing=0.15,  # Adjust the vertical spacing between subplots\n",
    "    horizontal_spacing=0.15 # Adjust the horizontal spacing between subplots\n",
    ")\n",
    "\n",
    "\n",
    "# Define the categorizations for SIZE, FOCUS, AGE, and RES.\n",
    "size_categories = {\n",
    "    'XL': '> 30,000',\n",
    "    'L': '>= 12,000',\n",
    "    'M': '>= 5,000',\n",
    "    'S': '< 5,000'\n",
    "}\n",
    "focus_categories = {\n",
    "    'FC': 'Fully Comp.',\n",
    "    'CO': 'Comprehensive',\n",
    "    'FO': 'Focused',\n",
    "    'SP': 'Specialist'\n",
    "}\n",
    "age_categories = {\n",
    "    1: '< 10',\n",
    "    2: '10-24',\n",
    "    3: '25-49',\n",
    "    4: '50-99',\n",
    "    5: '>= 100'\n",
    "}\n",
    "res_categories = {\n",
    "    'VH': 'Very High',\n",
    "    'HI': 'High',\n",
    "    'MD': 'Medium',\n",
    "    'LO': 'Low'\n",
    "}\n",
    "\n",
    "# Map the mean 'Rank Change' to the defined categorizations\n",
    "qs_data['SIZE'] = qs_data['SIZE'].map(size_categories)\n",
    "qs_data['FOCUS'] = qs_data['FOCUS'].map(focus_categories)\n",
    "qs_data['AGE'] = qs_data['AGE'].map(age_categories)\n",
    "qs_data['RES.'] = qs_data['RES.'].map(res_categories)\n",
    "\n",
    "# Calculate the mean rank change for each category\n",
    "change_by_size = qs_data.groupby('SIZE')['Rank Change'].mean().sort_values()\n",
    "change_by_focus = qs_data.groupby('FOCUS')['Rank Change'].mean().sort_values()\n",
    "change_by_rs = qs_data.groupby('RES.')['Rank Change'].mean().sort_values()\n",
    "change_by_age = qs_data.groupby('AGE')['Rank Change'].mean().sort_values()\n",
    "\n",
    "# Create a dictionary of the categories and their respective color scales\n",
    "categories = {\n",
    "    'Size': change_by_size,\n",
    "    'Focus': change_by_focus,\n",
    "    'Research': change_by_rs,\n",
    "    'Age': change_by_age\n",
    "}\n",
    "color_scales = {\n",
    "    'Size': px.colors.sequential.Greens,\n",
    "    'Focus': px.colors.sequential.Reds,\n",
    "    'Research': px.colors.sequential.YlOrRd,\n",
    "    'Age': px.colors.sequential.Blues\n",
    "}\n",
    "\n",
    "# Add the bar charts to the subplots\n",
    "for i, (category_name, change_by_category) in enumerate(categories.items()):\n",
    "    row = int(i / col_n) + 1\n",
    "    col = i % col_n + 1\n",
    "    colors = color_scales[category_name]\n",
    "    fig.add_trace(\n",
    "        go.Bar(\n",
    "            x=change_by_category.index,\n",
    "            y=change_by_category.values,\n",
    "            name=category_name,\n",
    "            text=change_by_category.round().astype(int).astype(str),\n",
    "            textposition='inside',\n",
    "            marker=dict(color=colors),\n",
    "            marker_line=dict(color='black', width=1.5)\n",
    "        ),\n",
    "        row=row,\n",
    "        col=col\n",
    "    )\n",
    "\n",
    "# Update layout for the entire figure\n",
    "fig.update_layout(\n",
    "    title_text='Average Rank Change by Categories: College Size, Focus, Research Intensity, and Age',\n",
    "    showlegend=False,\n",
    "    template='plotly_white',\n",
    "    margin=dict(l=50, r=50, t=100, b=50),  # Add margins to the figure\n",
    "    height=800,  # Increase the figure height\n",
    "    width=1000   # Increase the figure width\n",
    ")\n",
    "\n",
    "# Show the figure\n",
    "fig.show()\n"
   ]
  },
  {
   "cell_type": "markdown",
   "id": "ecf48766",
   "metadata": {},
   "source": [
    "### **6. Correlation between Overall Scores**"
   ]
  },
  {
   "cell_type": "code",
   "execution_count": 38,
   "id": "e8aa3a23",
   "metadata": {},
   "outputs": [
    {
     "data": {
      "application/vnd.plotly.v1+json": {
       "config": {
        "plotlyServerURL": "https://plot.ly"
       },
       "data": [
        {
         "alignmentgroup": "True",
         "hovertemplate": "index=%{x}<br>y=%{y}<br>text=%{text}<br>color=%{marker.color}<extra></extra>",
         "legendgroup": "",
         "marker": {
          "color": [
           0.348794079277392,
           0.3839273107715688,
           0.42361801482275374,
           0.5418824359077712,
           0.54258118807609,
           0.6032871828641788,
           0.6951245539686204,
           0.749843210674703,
           0.9064432555793247
          ],
          "coloraxis": "coloraxis",
          "line": {
           "color": "black",
           "width": 1.5
          },
          "pattern": {
           "shape": ""
          }
         },
         "name": "",
         "offsetgroup": "",
         "opacity": 0.8,
         "orientation": "v",
         "showlegend": false,
         "text": [
          0.35,
          0.38,
          0.42,
          0.54,
          0.54,
          0.6,
          0.7,
          0.75,
          0.91
         ],
         "textposition": "auto",
         "type": "bar",
         "x": [
          "Faculty Student Score",
          "International Faculty Score",
          "International Students Score",
          "International Research Network Score",
          "Citations per Faculty Score",
          "Sustainability Score",
          "Employment Outcomes Score",
          "Employer Reputation Score",
          "Academic Reputation Score"
         ],
         "xaxis": "x",
         "y": [
          0.348794079277392,
          0.3839273107715688,
          0.42361801482275374,
          0.5418824359077712,
          0.54258118807609,
          0.6032871828641788,
          0.6951245539686204,
          0.749843210674703,
          0.9064432555793247
         ],
         "yaxis": "y"
        }
       ],
       "layout": {
        "barmode": "relative",
        "coloraxis": {
         "colorbar": {
          "title": {
           "text": "Correlation"
          }
         },
         "colorscale": [
          [
           0,
           "rgb(255,255,204)"
          ],
          [
           0.125,
           "rgb(255,237,160)"
          ],
          [
           0.25,
           "rgb(254,217,118)"
          ],
          [
           0.375,
           "rgb(254,178,76)"
          ],
          [
           0.5,
           "rgb(253,141,60)"
          ],
          [
           0.625,
           "rgb(252,78,42)"
          ],
          [
           0.75,
           "rgb(227,26,28)"
          ],
          [
           0.875,
           "rgb(189,0,38)"
          ],
          [
           1,
           "rgb(128,0,38)"
          ]
         ]
        },
        "legend": {
         "tracegroupgap": 0
        },
        "margin": {
         "t": 60
        },
        "template": {
         "data": {
          "bar": [
           {
            "error_x": {
             "color": "#2a3f5f"
            },
            "error_y": {
             "color": "#2a3f5f"
            },
            "marker": {
             "line": {
              "color": "white",
              "width": 0.5
             },
             "pattern": {
              "fillmode": "overlay",
              "size": 10,
              "solidity": 0.2
             }
            },
            "type": "bar"
           }
          ],
          "barpolar": [
           {
            "marker": {
             "line": {
              "color": "white",
              "width": 0.5
             },
             "pattern": {
              "fillmode": "overlay",
              "size": 10,
              "solidity": 0.2
             }
            },
            "type": "barpolar"
           }
          ],
          "carpet": [
           {
            "aaxis": {
             "endlinecolor": "#2a3f5f",
             "gridcolor": "#C8D4E3",
             "linecolor": "#C8D4E3",
             "minorgridcolor": "#C8D4E3",
             "startlinecolor": "#2a3f5f"
            },
            "baxis": {
             "endlinecolor": "#2a3f5f",
             "gridcolor": "#C8D4E3",
             "linecolor": "#C8D4E3",
             "minorgridcolor": "#C8D4E3",
             "startlinecolor": "#2a3f5f"
            },
            "type": "carpet"
           }
          ],
          "choropleth": [
           {
            "colorbar": {
             "outlinewidth": 0,
             "ticks": ""
            },
            "type": "choropleth"
           }
          ],
          "contour": [
           {
            "colorbar": {
             "outlinewidth": 0,
             "ticks": ""
            },
            "colorscale": [
             [
              0,
              "#0d0887"
             ],
             [
              0.1111111111111111,
              "#46039f"
             ],
             [
              0.2222222222222222,
              "#7201a8"
             ],
             [
              0.3333333333333333,
              "#9c179e"
             ],
             [
              0.4444444444444444,
              "#bd3786"
             ],
             [
              0.5555555555555556,
              "#d8576b"
             ],
             [
              0.6666666666666666,
              "#ed7953"
             ],
             [
              0.7777777777777778,
              "#fb9f3a"
             ],
             [
              0.8888888888888888,
              "#fdca26"
             ],
             [
              1,
              "#f0f921"
             ]
            ],
            "type": "contour"
           }
          ],
          "contourcarpet": [
           {
            "colorbar": {
             "outlinewidth": 0,
             "ticks": ""
            },
            "type": "contourcarpet"
           }
          ],
          "heatmap": [
           {
            "colorbar": {
             "outlinewidth": 0,
             "ticks": ""
            },
            "colorscale": [
             [
              0,
              "#0d0887"
             ],
             [
              0.1111111111111111,
              "#46039f"
             ],
             [
              0.2222222222222222,
              "#7201a8"
             ],
             [
              0.3333333333333333,
              "#9c179e"
             ],
             [
              0.4444444444444444,
              "#bd3786"
             ],
             [
              0.5555555555555556,
              "#d8576b"
             ],
             [
              0.6666666666666666,
              "#ed7953"
             ],
             [
              0.7777777777777778,
              "#fb9f3a"
             ],
             [
              0.8888888888888888,
              "#fdca26"
             ],
             [
              1,
              "#f0f921"
             ]
            ],
            "type": "heatmap"
           }
          ],
          "heatmapgl": [
           {
            "colorbar": {
             "outlinewidth": 0,
             "ticks": ""
            },
            "colorscale": [
             [
              0,
              "#0d0887"
             ],
             [
              0.1111111111111111,
              "#46039f"
             ],
             [
              0.2222222222222222,
              "#7201a8"
             ],
             [
              0.3333333333333333,
              "#9c179e"
             ],
             [
              0.4444444444444444,
              "#bd3786"
             ],
             [
              0.5555555555555556,
              "#d8576b"
             ],
             [
              0.6666666666666666,
              "#ed7953"
             ],
             [
              0.7777777777777778,
              "#fb9f3a"
             ],
             [
              0.8888888888888888,
              "#fdca26"
             ],
             [
              1,
              "#f0f921"
             ]
            ],
            "type": "heatmapgl"
           }
          ],
          "histogram": [
           {
            "marker": {
             "pattern": {
              "fillmode": "overlay",
              "size": 10,
              "solidity": 0.2
             }
            },
            "type": "histogram"
           }
          ],
          "histogram2d": [
           {
            "colorbar": {
             "outlinewidth": 0,
             "ticks": ""
            },
            "colorscale": [
             [
              0,
              "#0d0887"
             ],
             [
              0.1111111111111111,
              "#46039f"
             ],
             [
              0.2222222222222222,
              "#7201a8"
             ],
             [
              0.3333333333333333,
              "#9c179e"
             ],
             [
              0.4444444444444444,
              "#bd3786"
             ],
             [
              0.5555555555555556,
              "#d8576b"
             ],
             [
              0.6666666666666666,
              "#ed7953"
             ],
             [
              0.7777777777777778,
              "#fb9f3a"
             ],
             [
              0.8888888888888888,
              "#fdca26"
             ],
             [
              1,
              "#f0f921"
             ]
            ],
            "type": "histogram2d"
           }
          ],
          "histogram2dcontour": [
           {
            "colorbar": {
             "outlinewidth": 0,
             "ticks": ""
            },
            "colorscale": [
             [
              0,
              "#0d0887"
             ],
             [
              0.1111111111111111,
              "#46039f"
             ],
             [
              0.2222222222222222,
              "#7201a8"
             ],
             [
              0.3333333333333333,
              "#9c179e"
             ],
             [
              0.4444444444444444,
              "#bd3786"
             ],
             [
              0.5555555555555556,
              "#d8576b"
             ],
             [
              0.6666666666666666,
              "#ed7953"
             ],
             [
              0.7777777777777778,
              "#fb9f3a"
             ],
             [
              0.8888888888888888,
              "#fdca26"
             ],
             [
              1,
              "#f0f921"
             ]
            ],
            "type": "histogram2dcontour"
           }
          ],
          "mesh3d": [
           {
            "colorbar": {
             "outlinewidth": 0,
             "ticks": ""
            },
            "type": "mesh3d"
           }
          ],
          "parcoords": [
           {
            "line": {
             "colorbar": {
              "outlinewidth": 0,
              "ticks": ""
             }
            },
            "type": "parcoords"
           }
          ],
          "pie": [
           {
            "automargin": true,
            "type": "pie"
           }
          ],
          "scatter": [
           {
            "fillpattern": {
             "fillmode": "overlay",
             "size": 10,
             "solidity": 0.2
            },
            "type": "scatter"
           }
          ],
          "scatter3d": [
           {
            "line": {
             "colorbar": {
              "outlinewidth": 0,
              "ticks": ""
             }
            },
            "marker": {
             "colorbar": {
              "outlinewidth": 0,
              "ticks": ""
             }
            },
            "type": "scatter3d"
           }
          ],
          "scattercarpet": [
           {
            "marker": {
             "colorbar": {
              "outlinewidth": 0,
              "ticks": ""
             }
            },
            "type": "scattercarpet"
           }
          ],
          "scattergeo": [
           {
            "marker": {
             "colorbar": {
              "outlinewidth": 0,
              "ticks": ""
             }
            },
            "type": "scattergeo"
           }
          ],
          "scattergl": [
           {
            "marker": {
             "colorbar": {
              "outlinewidth": 0,
              "ticks": ""
             }
            },
            "type": "scattergl"
           }
          ],
          "scattermapbox": [
           {
            "marker": {
             "colorbar": {
              "outlinewidth": 0,
              "ticks": ""
             }
            },
            "type": "scattermapbox"
           }
          ],
          "scatterpolar": [
           {
            "marker": {
             "colorbar": {
              "outlinewidth": 0,
              "ticks": ""
             }
            },
            "type": "scatterpolar"
           }
          ],
          "scatterpolargl": [
           {
            "marker": {
             "colorbar": {
              "outlinewidth": 0,
              "ticks": ""
             }
            },
            "type": "scatterpolargl"
           }
          ],
          "scatterternary": [
           {
            "marker": {
             "colorbar": {
              "outlinewidth": 0,
              "ticks": ""
             }
            },
            "type": "scatterternary"
           }
          ],
          "surface": [
           {
            "colorbar": {
             "outlinewidth": 0,
             "ticks": ""
            },
            "colorscale": [
             [
              0,
              "#0d0887"
             ],
             [
              0.1111111111111111,
              "#46039f"
             ],
             [
              0.2222222222222222,
              "#7201a8"
             ],
             [
              0.3333333333333333,
              "#9c179e"
             ],
             [
              0.4444444444444444,
              "#bd3786"
             ],
             [
              0.5555555555555556,
              "#d8576b"
             ],
             [
              0.6666666666666666,
              "#ed7953"
             ],
             [
              0.7777777777777778,
              "#fb9f3a"
             ],
             [
              0.8888888888888888,
              "#fdca26"
             ],
             [
              1,
              "#f0f921"
             ]
            ],
            "type": "surface"
           }
          ],
          "table": [
           {
            "cells": {
             "fill": {
              "color": "#EBF0F8"
             },
             "line": {
              "color": "white"
             }
            },
            "header": {
             "fill": {
              "color": "#C8D4E3"
             },
             "line": {
              "color": "white"
             }
            },
            "type": "table"
           }
          ]
         },
         "layout": {
          "annotationdefaults": {
           "arrowcolor": "#2a3f5f",
           "arrowhead": 0,
           "arrowwidth": 1
          },
          "autotypenumbers": "strict",
          "coloraxis": {
           "colorbar": {
            "outlinewidth": 0,
            "ticks": ""
           }
          },
          "colorscale": {
           "diverging": [
            [
             0,
             "#8e0152"
            ],
            [
             0.1,
             "#c51b7d"
            ],
            [
             0.2,
             "#de77ae"
            ],
            [
             0.3,
             "#f1b6da"
            ],
            [
             0.4,
             "#fde0ef"
            ],
            [
             0.5,
             "#f7f7f7"
            ],
            [
             0.6,
             "#e6f5d0"
            ],
            [
             0.7,
             "#b8e186"
            ],
            [
             0.8,
             "#7fbc41"
            ],
            [
             0.9,
             "#4d9221"
            ],
            [
             1,
             "#276419"
            ]
           ],
           "sequential": [
            [
             0,
             "#0d0887"
            ],
            [
             0.1111111111111111,
             "#46039f"
            ],
            [
             0.2222222222222222,
             "#7201a8"
            ],
            [
             0.3333333333333333,
             "#9c179e"
            ],
            [
             0.4444444444444444,
             "#bd3786"
            ],
            [
             0.5555555555555556,
             "#d8576b"
            ],
            [
             0.6666666666666666,
             "#ed7953"
            ],
            [
             0.7777777777777778,
             "#fb9f3a"
            ],
            [
             0.8888888888888888,
             "#fdca26"
            ],
            [
             1,
             "#f0f921"
            ]
           ],
           "sequentialminus": [
            [
             0,
             "#0d0887"
            ],
            [
             0.1111111111111111,
             "#46039f"
            ],
            [
             0.2222222222222222,
             "#7201a8"
            ],
            [
             0.3333333333333333,
             "#9c179e"
            ],
            [
             0.4444444444444444,
             "#bd3786"
            ],
            [
             0.5555555555555556,
             "#d8576b"
            ],
            [
             0.6666666666666666,
             "#ed7953"
            ],
            [
             0.7777777777777778,
             "#fb9f3a"
            ],
            [
             0.8888888888888888,
             "#fdca26"
            ],
            [
             1,
             "#f0f921"
            ]
           ]
          },
          "colorway": [
           "#636efa",
           "#EF553B",
           "#00cc96",
           "#ab63fa",
           "#FFA15A",
           "#19d3f3",
           "#FF6692",
           "#B6E880",
           "#FF97FF",
           "#FECB52"
          ],
          "font": {
           "color": "#2a3f5f"
          },
          "geo": {
           "bgcolor": "white",
           "lakecolor": "white",
           "landcolor": "white",
           "showlakes": true,
           "showland": true,
           "subunitcolor": "#C8D4E3"
          },
          "hoverlabel": {
           "align": "left"
          },
          "hovermode": "closest",
          "mapbox": {
           "style": "light"
          },
          "paper_bgcolor": "white",
          "plot_bgcolor": "white",
          "polar": {
           "angularaxis": {
            "gridcolor": "#EBF0F8",
            "linecolor": "#EBF0F8",
            "ticks": ""
           },
           "bgcolor": "white",
           "radialaxis": {
            "gridcolor": "#EBF0F8",
            "linecolor": "#EBF0F8",
            "ticks": ""
           }
          },
          "scene": {
           "xaxis": {
            "backgroundcolor": "white",
            "gridcolor": "#DFE8F3",
            "gridwidth": 2,
            "linecolor": "#EBF0F8",
            "showbackground": true,
            "ticks": "",
            "zerolinecolor": "#EBF0F8"
           },
           "yaxis": {
            "backgroundcolor": "white",
            "gridcolor": "#DFE8F3",
            "gridwidth": 2,
            "linecolor": "#EBF0F8",
            "showbackground": true,
            "ticks": "",
            "zerolinecolor": "#EBF0F8"
           },
           "zaxis": {
            "backgroundcolor": "white",
            "gridcolor": "#DFE8F3",
            "gridwidth": 2,
            "linecolor": "#EBF0F8",
            "showbackground": true,
            "ticks": "",
            "zerolinecolor": "#EBF0F8"
           }
          },
          "shapedefaults": {
           "line": {
            "color": "#2a3f5f"
           }
          },
          "ternary": {
           "aaxis": {
            "gridcolor": "#DFE8F3",
            "linecolor": "#A2B1C6",
            "ticks": ""
           },
           "baxis": {
            "gridcolor": "#DFE8F3",
            "linecolor": "#A2B1C6",
            "ticks": ""
           },
           "bgcolor": "white",
           "caxis": {
            "gridcolor": "#DFE8F3",
            "linecolor": "#A2B1C6",
            "ticks": ""
           }
          },
          "title": {
           "x": 0.05
          },
          "xaxis": {
           "automargin": true,
           "gridcolor": "#EBF0F8",
           "linecolor": "#EBF0F8",
           "ticks": "",
           "title": {
            "standoff": 15
           },
           "zerolinecolor": "#EBF0F8",
           "zerolinewidth": 2
          },
          "yaxis": {
           "automargin": true,
           "gridcolor": "#EBF0F8",
           "linecolor": "#EBF0F8",
           "ticks": "",
           "title": {
            "standoff": 15
           },
           "zerolinecolor": "#EBF0F8",
           "zerolinewidth": 2
          }
         }
        },
        "title": {
         "text": "Correlation between Variables and Overall Score"
        },
        "xaxis": {
         "anchor": "y",
         "domain": [
          0,
          1
         ],
         "title": {
          "font": {
           "size": 14
          },
          "text": "Variables"
         }
        },
        "yaxis": {
         "anchor": "x",
         "domain": [
          0,
          1
         ],
         "title": {
          "font": {
           "size": 14
          },
          "text": "Correlation with Overall Score"
         }
        }
       }
      }
     },
     "metadata": {},
     "output_type": "display_data"
    }
   ],
   "source": [
    "# The correlation between each column and the 'Overall SCORE' column, sorted in ascending order of correlation\n",
    "qs_data_corr = qs_data.drop(['Rank Change', '2023 RANK', '2024 RANK'], axis=1, inplace=False).corr(numeric_only=True)['Overall SCORE'].drop('Overall SCORE').sort_values(ascending=True)\n",
    "\n",
    "fig = px.bar(qs_data_corr, \n",
    "             x=qs_data_corr.index, \n",
    "             y=qs_data_corr.values,\n",
    "             color=qs_data_corr.values,\n",
    "             text=np.round(qs_data_corr.values,2),\n",
    "             color_continuous_scale='YlOrRd')\n",
    "\n",
    "fig.update_layout(\n",
    "    title_text='Correlation between Variables and Overall Score',\n",
    "    template='plotly_white',\n",
    "    xaxis=dict(\n",
    "        title='Variables',\n",
    "        titlefont_size=14\n",
    "    ),\n",
    "    yaxis=dict(\n",
    "        title='Correlation with Overall Score',\n",
    "        titlefont_size=14\n",
    "    ),\n",
    "    coloraxis_colorbar=dict(\n",
    "        title='Correlation'\n",
    "    )\n",
    ")\n",
    "\n",
    "fig.update_traces(marker_line_color='black', \n",
    "                  marker_line_width=1.5, \n",
    "                  opacity=0.8)\n",
    "\n",
    "fig.show()"
   ]
  },
  {
   "cell_type": "code",
   "execution_count": null,
   "metadata": {},
   "outputs": [],
   "source": []
  }
 ],
 "metadata": {
  "kernelspec": {
   "display_name": "Python 3 (ipykernel)",
   "language": "python",
   "name": "python3"
  },
  "language_info": {
   "codemirror_mode": {
    "name": "ipython",
    "version": 3
   },
   "file_extension": ".py",
   "mimetype": "text/x-python",
   "name": "python",
   "nbconvert_exporter": "python",
   "pygments_lexer": "ipython3",
   "version": "3.11.4"
  }
 },
 "nbformat": 4,
 "nbformat_minor": 5
}
